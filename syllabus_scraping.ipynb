{
  "nbformat": 4,
  "nbformat_minor": 0,
  "metadata": {
    "colab": {
      "name": "syllabus_scraping.ipynb",
      "provenance": [],
      "authorship_tag": "ABX9TyNI85PK20AQbgJEqXKVGlCs",
      "include_colab_link": true
    },
    "kernelspec": {
      "name": "python3",
      "display_name": "Python 3"
    }
  },
  "cells": [
    {
      "cell_type": "markdown",
      "metadata": {
        "id": "view-in-github",
        "colab_type": "text"
      },
      "source": [
        "<a href=\"https://colab.research.google.com/github/avinashjairam/avinashjairam.github.io/blob/master/syllabus_scraping.ipynb\" target=\"_parent\"><img src=\"https://colab.research.google.com/assets/colab-badge.svg\" alt=\"Open In Colab\"/></a>"
      ]
    },
    {
      "cell_type": "code",
      "metadata": {
        "id": "m0mD3K0FRVfU"
      },
      "source": [
        "#Scraping office hours, website and course description from https://avinashjairam.github.io/syllabus.html\n",
        "import requests\n",
        "from bs4 import BeautifulSoup\n"
      ],
      "execution_count": 1,
      "outputs": []
    },
    {
      "cell_type": "code",
      "metadata": {
        "id": "aQFgWVOUR0K1",
        "colab": {
          "base_uri": "https://localhost:8080/"
        },
        "outputId": "8481083e-72cc-4cf9-beef-923b6d7d3f41"
      },
      "source": [
        "URL='https://avinashjairam.github.io/syllabus.html'\n",
        "\n",
        "page = requests.get(URL)\n",
        "print(page.content)"
      ],
      "execution_count": 2,
      "outputs": [
        {
          "output_type": "stream",
          "name": "stdout",
          "text": [
            "b'<!DOCTYPE html>\\n\\n<html>\\n     <head>\\n\\t<title>CIS 3120 SYLLABUS></title>\\n     </head>\\n\\n\\n\\n      <body>\\n\\t<h4>Instructor:</h4> \\n\\t<p id=\"instructor\"> Mr. Avinash Jairam </p>\\n\\n\\t<h4>Class Time: </h4> \\n\\t<p id =\"time\"> Saturday: 11:10AM - 2:05PM - ONLINE via BlackBoard Collaborate </p>\\n\\n\\t<h4>Office hours:</h4> \\n\\t<p id = \"office_hours\"> Saturday: 10:00AM - 11:00AM </p>\\n\\n\\t<h4>Email:</h4>\\n        <p id=\"email\"> avinash.jairam@baruch.cuny.edu </p>\\n\\n\\t<h4>Course Website :</h4> \\n\\t<p id=\"website\"> Blackboard</p>\\n\\n\\t<h4>Course Description:</h4>\\n\\t<p id=\"description\">\\n\\t This course introduces the aspects of programming that can\\n\\tsupport business analytics. The course covers hands-on issues in programming for\\n\\tanalytics which include accessing data, \\n\\tcreating informative data graphics, writing functions, \\n\\tdebugging, and organizing and commenting code.</p>\\n\\n      </body>\\n\\n\\n</html>'\n"
          ]
        }
      ]
    },
    {
      "cell_type": "code",
      "metadata": {
        "id": "n6xWLKMJWWTM"
      },
      "source": [
        "soup = BeautifulSoup(page.content, 'html.parser')"
      ],
      "execution_count": 3,
      "outputs": []
    },
    {
      "cell_type": "code",
      "metadata": {
        "id": "K0ZDPgFWSnLV",
        "colab": {
          "base_uri": "https://localhost:8080/"
        },
        "outputId": "cc197545-4f18-4b4e-d2ca-d6bd51199fc6"
      },
      "source": [
        "print(soup.prettify())"
      ],
      "execution_count": 4,
      "outputs": [
        {
          "output_type": "stream",
          "name": "stdout",
          "text": [
            "<!DOCTYPE html>\n",
            "<html>\n",
            " <head>\n",
            "  <title>\n",
            "   CIS 3120 SYLLABUS&gt;\n",
            "  </title>\n",
            " </head>\n",
            " <body>\n",
            "  <h4>\n",
            "   Instructor:\n",
            "  </h4>\n",
            "  <p id=\"instructor\">\n",
            "   Mr. Avinash Jairam\n",
            "  </p>\n",
            "  <h4>\n",
            "   Class Time:\n",
            "  </h4>\n",
            "  <p id=\"time\">\n",
            "   Saturday: 11:10AM - 2:05PM - ONLINE via BlackBoard Collaborate\n",
            "  </p>\n",
            "  <h4>\n",
            "   Office hours:\n",
            "  </h4>\n",
            "  <p id=\"office_hours\">\n",
            "   Saturday: 10:00AM - 11:00AM\n",
            "  </p>\n",
            "  <h4>\n",
            "   Email:\n",
            "  </h4>\n",
            "  <p id=\"email\">\n",
            "   avinash.jairam@baruch.cuny.edu\n",
            "  </p>\n",
            "  <h4>\n",
            "   Course Website :\n",
            "  </h4>\n",
            "  <p id=\"website\">\n",
            "   Blackboard\n",
            "  </p>\n",
            "  <h4>\n",
            "   Course Description:\n",
            "  </h4>\n",
            "  <p id=\"description\">\n",
            "   This course introduces the aspects of programming that can\n",
            "\tsupport business analytics. The course covers hands-on issues in programming for\n",
            "\tanalytics which include accessing data, \n",
            "\tcreating informative data graphics, writing functions, \n",
            "\tdebugging, and organizing and commenting code.\n",
            "  </p>\n",
            " </body>\n",
            "</html>\n"
          ]
        }
      ]
    },
    {
      "cell_type": "code",
      "metadata": {
        "id": "XHIwcO6RS1AS"
      },
      "source": [
        "office_hours= soup.find_all('p', id=\"office_hours\")"
      ],
      "execution_count": 5,
      "outputs": []
    },
    {
      "cell_type": "code",
      "metadata": {
        "id": "Igr92w6WTkYf",
        "colab": {
          "base_uri": "https://localhost:8080/"
        },
        "outputId": "03626c02-2c70-43d3-8f55-2d047c5636a2"
      },
      "source": [
        "office_hours = office_hours[0].get_text()\n",
        "print(office_hours)"
      ],
      "execution_count": 6,
      "outputs": [
        {
          "output_type": "stream",
          "name": "stdout",
          "text": [
            " Saturday: 10:00AM - 11:00AM \n"
          ]
        }
      ]
    },
    {
      "cell_type": "code",
      "metadata": {
        "id": "TeJ6Vqj1-HNw",
        "outputId": "2db677c3-6556-4dc0-8b1b-11e46295af45",
        "colab": {
          "base_uri": "https://localhost:8080/"
        }
      },
      "source": [
        "#Since an id will only occur once per page, you can also utilize the .find method\n",
        "office_hours = soup.find('p', id ='office_hours')\n",
        "office_hours = office_hours.get_text()\n",
        "print(office_hours)"
      ],
      "execution_count": 15,
      "outputs": [
        {
          "output_type": "stream",
          "name": "stdout",
          "text": [
            " Saturday: 10:00AM - 11:00AM \n"
          ]
        }
      ]
    },
    {
      "cell_type": "code",
      "metadata": {
        "id": "DGe4OV4NUzS3",
        "colab": {
          "base_uri": "https://localhost:8080/"
        },
        "outputId": "68768406-3749-4637-8bf7-9e9c0e1028c5"
      },
      "source": [
        "website = soup.find_all('p', id = \"website\")\n",
        "website = website[0].get_text()\n",
        "print(website)"
      ],
      "execution_count": 7,
      "outputs": [
        {
          "output_type": "stream",
          "name": "stdout",
          "text": [
            " Blackboard\n"
          ]
        }
      ]
    },
    {
      "cell_type": "code",
      "metadata": {
        "id": "nVa8lbo2-Ysl",
        "outputId": "869fd756-44bb-431a-9d67-f6f24c6c8d01",
        "colab": {
          "base_uri": "https://localhost:8080/"
        }
      },
      "source": [
        "#Since an id will only occur once per page, you can also utilize the .find method\n",
        "website = soup.find('p', id = 'website')\n",
        "website = website.get_text()\n",
        "print(website)"
      ],
      "execution_count": 12,
      "outputs": [
        {
          "output_type": "stream",
          "name": "stdout",
          "text": [
            " Blackboard\n"
          ]
        }
      ]
    },
    {
      "cell_type": "code",
      "metadata": {
        "id": "9ELUDvBcTleI",
        "colab": {
          "base_uri": "https://localhost:8080/"
        },
        "outputId": "99ffdcc8-260f-41d1-d615-fe19ffb53368"
      },
      "source": [
        "course_description=soup.find_all('p', id=\"description\")\n",
        "course_description=course_description[0].get_text()\n",
        "print(course_description)"
      ],
      "execution_count": 11,
      "outputs": [
        {
          "output_type": "stream",
          "name": "stdout",
          "text": [
            "\n",
            "\t This course introduces the aspects of programming that can\n",
            "\tsupport business analytics. The course covers hands-on issues in programming for\n",
            "\tanalytics which include accessing data, \n",
            "\tcreating informative data graphics, writing functions, \n",
            "\tdebugging, and organizing and commenting code.\n"
          ]
        }
      ]
    },
    {
      "cell_type": "code",
      "metadata": {
        "id": "yCLcvOz0VXTZ",
        "outputId": "6af24ba2-7285-4617-f43f-891370b84327",
        "colab": {
          "base_uri": "https://localhost:8080/"
        }
      },
      "source": [
        "#Since an id will only occur once per page, you can also utilize the .find method\n",
        "course_description = soup.find('p', id = 'description')\n",
        "course_description = course_description.get_text()\n",
        "print(course_description)"
      ],
      "execution_count": 14,
      "outputs": [
        {
          "output_type": "stream",
          "name": "stdout",
          "text": [
            "\n",
            "\t This course introduces the aspects of programming that can\n",
            "\tsupport business analytics. The course covers hands-on issues in programming for\n",
            "\tanalytics which include accessing data, \n",
            "\tcreating informative data graphics, writing functions, \n",
            "\tdebugging, and organizing and commenting code.\n"
          ]
        }
      ]
    },
    {
      "cell_type": "code",
      "metadata": {
        "id": "jovURP1r-yxg"
      },
      "source": [
        ""
      ],
      "execution_count": null,
      "outputs": []
    }
  ]
}