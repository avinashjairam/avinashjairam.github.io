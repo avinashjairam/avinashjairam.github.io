{
  "nbformat": 4,
  "nbformat_minor": 0,
  "metadata": {
    "colab": {
      "name": "Histogram.ipynb",
      "provenance": [],
      "authorship_tag": "ABX9TyN+XZLJD5tz8m9ULoYEyg4Y",
      "include_colab_link": true
    },
    "kernelspec": {
      "name": "python3",
      "display_name": "Python 3"
    },
    "language_info": {
      "name": "python"
    }
  },
  "cells": [
    {
      "cell_type": "markdown",
      "metadata": {
        "id": "view-in-github",
        "colab_type": "text"
      },
      "source": [
        "<a href=\"https://colab.research.google.com/github/avinashjairam/avinashjairam.github.io/blob/master/Histogram.ipynb\" target=\"_parent\"><img src=\"https://colab.research.google.com/assets/colab-badge.svg\" alt=\"Open In Colab\"/></a>"
      ]
    },
    {
      "cell_type": "code",
      "metadata": {
        "id": "perbNatihzG2"
      },
      "source": [
        "# importing matplotlib module\n",
        "from matplotlib import pyplot as plt"
      ],
      "execution_count": null,
      "outputs": []
    },
    {
      "cell_type": "code",
      "metadata": {
        "id": "TtFuXGBQh5ld"
      },
      "source": [
        "# x-axis values\n",
        "x = [5, 2, 9, 4, 7]\n",
        "\n",
        "# Y-axis values\n",
        "y = [10, 5, 8, 4, 2]"
      ],
      "execution_count": null,
      "outputs": []
    },
    {
      "cell_type": "code",
      "metadata": {
        "colab": {
          "base_uri": "https://localhost:8080/",
          "height": 295
        },
        "id": "bfxxG8AXh7wr",
        "outputId": "b1031de7-8e6b-48d7-f075-22055fd2bfc9"
      },
      "source": [
        "# Function to plot the bar\n",
        "plt.bar(x,y)\n",
        "\n",
        "plt.title('Random Bar Graph')\n",
        "plt.xlabel('x - values ')\n",
        "plt.ylabel('y - labels')\n",
        "plt.show()"
      ],
      "execution_count": null,
      "outputs": [
        {
          "output_type": "display_data",
          "data": {
            "image/png": "[encoded data removed]",
            "text/plain": [
              "<Figure size 432x288 with 1 Axes>"
            ]
          },
          "metadata": {
            "needs_background": "light"
          }
        }
      ]
    },
    {
      "cell_type": "code",
      "metadata": {
        "colab": {
          "base_uri": "https://localhost:8080/",
          "height": 295
        },
        "id": "fkfvwuxNiSXc",
        "outputId": "b4b56402-88f9-44c6-e883-1825e5d383d4"
      },
      "source": [
        "x = [21,22,23,4,5,6,77,8,9,10,31,32,33,34,35,36,37,18,49,50,100]\n",
        "\n",
        "num_bins = 5\n",
        "n, bins, patches = plt.hist(x, num_bins, alpha=0.5)\n",
        "plt.title(\"Random Histogram Graph\")\n",
        "plt.xlabel(\"x - values \")\n",
        "plt.ylabel('BINS')\n",
        "plt.show()"
      ],
      "execution_count": null,
      "outputs": [
        {
          "output_type": "display_data",
          "data": {
            "image/png": "[encoded data removed]",
            "text/plain": [
              "<Figure size 432x288 with 1 Axes>"
            ]
          },
          "metadata": {
            "needs_background": "light"
          }
        }
      ]
    },
    {
      "cell_type": "code",
      "metadata": {
        "id": "aEPDgQucii6M"
      },
      "source": [
        ""
      ],
      "execution_count": null,
      "outputs": []
    }
  ]
}