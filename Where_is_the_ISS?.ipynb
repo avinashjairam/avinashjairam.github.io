{
  "nbformat": 4,
  "nbformat_minor": 0,
  "metadata": {
    "colab": {
      "name": "Where is the ISS?.ipynb",
      "provenance": [],
      "authorship_tag": "ABX9TyPhGHitIyvsHGpA349tkWyk",
      "include_colab_link": true
    },
    "kernelspec": {
      "name": "python3",
      "display_name": "Python 3"
    },
    "language_info": {
      "name": "python"
    }
  },
  "cells": [
    {
      "cell_type": "markdown",
      "metadata": {
        "id": "view-in-github",
        "colab_type": "text"
      },
      "source": [
        "<a href=\"https://colab.research.google.com/github/avinashjairam/avinashjairam.github.io/blob/master/Where_is_the_ISS%3F.ipynb\" target=\"_parent\"><img src=\"https://colab.research.google.com/assets/colab-badge.svg\" alt=\"Open In Colab\"/></a>"
      ]
    },
    {
      "cell_type": "code",
      "metadata": {
        "id": "25sBy7eu_lP1"
      },
      "source": [
        "#importing libraries \n",
        "import json\n",
        "import requests"
      ],
      "execution_count": 2,
      "outputs": []
    },
    {
      "cell_type": "code",
      "metadata": {
        "id": "RUJinfmb_tPp"
      },
      "source": [
        "#making a request to the end point \n",
        "response = requests.get(\"http://api.open-notify.org/iss-now.json\")"
      ],
      "execution_count": 3,
      "outputs": []
    },
    {
      "cell_type": "code",
      "metadata": {
        "colab": {
          "base_uri": "https://localhost:8080/"
        },
        "id": "LTJJsLAo_1na",
        "outputId": "d8b9953f-dd8d-4e4c-8a06-f0c90ae0bb8c"
      },
      "source": [
        "#checking the response code - 200 means all is well\n",
        "print(response.status_code)"
      ],
      "execution_count": 4,
      "outputs": [
        {
          "output_type": "stream",
          "text": [
            "200\n"
          ],
          "name": "stdout"
        }
      ]
    },
    {
      "cell_type": "code",
      "metadata": {
        "id": "6wymGZ8h_56l"
      },
      "source": [
        "#extracting the json from the response\n",
        "data = response.json()"
      ],
      "execution_count": 5,
      "outputs": []
    },
    {
      "cell_type": "code",
      "metadata": {
        "colab": {
          "base_uri": "https://localhost:8080/"
        },
        "id": "sdYD60M-_-lD",
        "outputId": "76d9d91a-b316-419a-a497-d14ab4818d3a"
      },
      "source": [
        "#using json.dumps() to format the json returned as a string so that is easier to read\n",
        "print(json.dumps(data, sort_keys= True, indent= 10))"
      ],
      "execution_count": 12,
      "outputs": [
        {
          "output_type": "stream",
          "text": [
            "{\n",
            "          \"iss_position\": {\n",
            "                    \"latitude\": \"-42.1915\",\n",
            "                    \"longitude\": \"119.0722\"\n",
            "          },\n",
            "          \"message\": \"success\",\n",
            "          \"timestamp\": 1618682546\n",
            "}\n"
          ],
          "name": "stdout"
        }
      ]
    },
    {
      "cell_type": "code",
      "metadata": {
        "colab": {
          "base_uri": "https://localhost:8080/"
        },
        "id": "dLYR7w7uAKhA",
        "outputId": "557a353f-64e6-46b8-877f-89b057e51c10"
      },
      "source": [
        "#extracting the latitude from the json\n",
        "print(data[\"iss_position\"][\"latitude\"])"
      ],
      "execution_count": 14,
      "outputs": [
        {
          "output_type": "stream",
          "text": [
            "-42.1915\n"
          ],
          "name": "stdout"
        }
      ]
    },
    {
      "cell_type": "code",
      "metadata": {
        "colab": {
          "base_uri": "https://localhost:8080/"
        },
        "id": "AW_PclIFAeqK",
        "outputId": "9166a260-8be1-447c-aa52-685b8c4eea21"
      },
      "source": [
        "#extracting the longitude from the json \n",
        "print(data[\"iss_position\"][\"longitude\"])"
      ],
      "execution_count": 15,
      "outputs": [
        {
          "output_type": "stream",
          "text": [
            "119.0722\n"
          ],
          "name": "stdout"
        }
      ]
    },
    {
      "cell_type": "code",
      "metadata": {
        "id": "QAo6nc_IAniW"
      },
      "source": [
        ""
      ],
      "execution_count": null,
      "outputs": []
    }
  ]
}