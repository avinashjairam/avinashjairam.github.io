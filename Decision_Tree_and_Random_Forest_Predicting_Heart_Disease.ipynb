{
  "nbformat": 4,
  "nbformat_minor": 0,
  "metadata": {
    "colab": {
      "name": "Decision Tree and Random Forest Predicting Heart Disease.ipynb",
      "provenance": [],
      "authorship_tag": "ABX9TyN3HuXuIUgKoBh4Dw3ZnnpP",
      "include_colab_link": true
    },
    "kernelspec": {
      "name": "python3",
      "display_name": "Python 3"
    },
    "language_info": {
      "name": "python"
    }
  },
  "cells": [
    {
      "cell_type": "markdown",
      "metadata": {
        "id": "view-in-github",
        "colab_type": "text"
      },
      "source": [
        "<a href=\"https://colab.research.google.com/github/avinashjairam/avinashjairam.github.io/blob/master/Decision_Tree_and_Random_Forest_Predicting_Heart_Disease.ipynb\" target=\"_parent\"><img src=\"https://colab.research.google.com/assets/colab-badge.svg\" alt=\"Open In Colab\"/></a>"
      ]
    },
    {
      "cell_type": "code",
      "execution_count": 152,
      "metadata": {
        "id": "v6SlPqUtrPQf"
      },
      "outputs": [],
      "source": [
        "import pandas as pd \n",
        "import numpy as np\n",
        "import seaborn as sns\n",
        "from sklearn.model_selection import train_test_split\n",
        "from sklearn.preprocessing import StandardScaler\n",
        "from sklearn.tree import DecisionTreeClassifier\n",
        "from sklearn.metrics import classification_report\n",
        "from sklearn.ensemble import RandomForestClassifier\n",
        "from sklearn.linear_model import LogisticRegression"
      ]
    },
    {
      "cell_type": "code",
      "source": [
        "df = pd.read_csv('https://raw.githubusercontent.com/avinashjairam/avinashjairam.github.io/master/cardio.csv', delimiter=';')"
      ],
      "metadata": {
        "id": "GPqSlJWBre_p"
      },
      "execution_count": 153,
      "outputs": []
    },
    {
      "cell_type": "code",
      "source": [
        "df.head()"
      ],
      "metadata": {
        "colab": {
          "base_uri": "https://localhost:8080/",
          "height": 206
        },
        "id": "RgeWRgfIrlLi",
        "outputId": "1e16d78d-51b0-40ee-a8dd-daa4e107d94a"
      },
      "execution_count": 154,
      "outputs": [
        {
          "output_type": "execute_result",
          "data": {
            "text/plain": [
              "   id    age  sex  height  weight  ap_hi  ap_lo  cholesterol  gluc  smoke  \\\n",
              "0   0  18393    2     168    62.0    110     80            1     1      0   \n",
              "1   1  20228    1     156    85.0    140     90            3     1      0   \n",
              "2   2  18857    1     165    64.0    130     70            3     1      0   \n",
              "3   3  17623    2     169    82.0    150    100            1     1      0   \n",
              "4   4  17474    1     156    56.0    100     60            1     1      0   \n",
              "\n",
              "   alco  active  cardio  \n",
              "0     0       1       0  \n",
              "1     0       1       1  \n",
              "2     0       0       1  \n",
              "3     0       1       1  \n",
              "4     0       0       0  "
            ],
            "text/html": [
              "\n",
              "  <div id=\"df-5c5e25cf-9f65-433c-a3ad-6628ee96fe29\">\n",
              "    <div class=\"colab-df-container\">\n",
              "      <div>\n",
              "<style scoped>\n",
              "    .dataframe tbody tr th:only-of-type {\n",
              "        vertical-align: middle;\n",
              "    }\n",
              "\n",
              "    .dataframe tbody tr th {\n",
              "        vertical-align: top;\n",
              "    }\n",
              "\n",
              "    .dataframe thead th {\n",
              "        text-align: right;\n",
              "    }\n",
              "</style>\n",
              "<table border=\"1\" class=\"dataframe\">\n",
              "  <thead>\n",
              "    <tr style=\"text-align: right;\">\n",
              "      <th></th>\n",
              "      <th>id</th>\n",
              "      <th>age</th>\n",
              "      <th>sex</th>\n",
              "      <th>height</th>\n",
              "      <th>weight</th>\n",
              "      <th>ap_hi</th>\n",
              "      <th>ap_lo</th>\n",
              "      <th>cholesterol</th>\n",
              "      <th>gluc</th>\n",
              "      <th>smoke</th>\n",
              "      <th>alco</th>\n",
              "      <th>active</th>\n",
              "      <th>cardio</th>\n",
              "    </tr>\n",
              "  </thead>\n",
              "  <tbody>\n",
              "    <tr>\n",
              "      <th>0</th>\n",
              "      <td>0</td>\n",
              "      <td>18393</td>\n",
              "      <td>2</td>\n",
              "      <td>168</td>\n",
              "      <td>62.0</td>\n",
              "      <td>110</td>\n",
              "      <td>80</td>\n",
              "      <td>1</td>\n",
              "      <td>1</td>\n",
              "      <td>0</td>\n",
              "      <td>0</td>\n",
              "      <td>1</td>\n",
              "      <td>0</td>\n",
              "    </tr>\n",
              "    <tr>\n",
              "      <th>1</th>\n",
              "      <td>1</td>\n",
              "      <td>20228</td>\n",
              "      <td>1</td>\n",
              "      <td>156</td>\n",
              "      <td>85.0</td>\n",
              "      <td>140</td>\n",
              "      <td>90</td>\n",
              "      <td>3</td>\n",
              "      <td>1</td>\n",
              "      <td>0</td>\n",
              "      <td>0</td>\n",
              "      <td>1</td>\n",
              "      <td>1</td>\n",
              "    </tr>\n",
              "    <tr>\n",
              "      <th>2</th>\n",
              "      <td>2</td>\n",
              "      <td>18857</td>\n",
              "      <td>1</td>\n",
              "      <td>165</td>\n",
              "      <td>64.0</td>\n",
              "      <td>130</td>\n",
              "      <td>70</td>\n",
              "      <td>3</td>\n",
              "      <td>1</td>\n",
              "      <td>0</td>\n",
              "      <td>0</td>\n",
              "      <td>0</td>\n",
              "      <td>1</td>\n",
              "    </tr>\n",
              "    <tr>\n",
              "      <th>3</th>\n",
              "      <td>3</td>\n",
              "      <td>17623</td>\n",
              "      <td>2</td>\n",
              "      <td>169</td>\n",
              "      <td>82.0</td>\n",
              "      <td>150</td>\n",
              "      <td>100</td>\n",
              "      <td>1</td>\n",
              "      <td>1</td>\n",
              "      <td>0</td>\n",
              "      <td>0</td>\n",
              "      <td>1</td>\n",
              "      <td>1</td>\n",
              "    </tr>\n",
              "    <tr>\n",
              "      <th>4</th>\n",
              "      <td>4</td>\n",
              "      <td>17474</td>\n",
              "      <td>1</td>\n",
              "      <td>156</td>\n",
              "      <td>56.0</td>\n",
              "      <td>100</td>\n",
              "      <td>60</td>\n",
              "      <td>1</td>\n",
              "      <td>1</td>\n",
              "      <td>0</td>\n",
              "      <td>0</td>\n",
              "      <td>0</td>\n",
              "      <td>0</td>\n",
              "    </tr>\n",
              "  </tbody>\n",
              "</table>\n",
              "</div>\n",
              "      <button class=\"colab-df-convert\" onclick=\"convertToInteractive('df-5c5e25cf-9f65-433c-a3ad-6628ee96fe29')\"\n",
              "              title=\"Convert this dataframe to an interactive table.\"\n",
              "              style=\"display:none;\">\n",
              "        \n",
              "  <svg xmlns=\"http://www.w3.org/2000/svg\" height=\"24px\"viewBox=\"0 0 24 24\"\n",
              "       width=\"24px\">\n",
              "    <path d=\"M0 0h24v24H0V0z\" fill=\"none\"/>\n",
              "    <path d=\"M18.56 5.44l.94 2.06.94-2.06 2.06-.94-2.06-.94-.94-2.06-.94 2.06-2.06.94zm-11 1L8.5 8.5l.94-2.06 2.06-.94-2.06-.94L8.5 2.5l-.94 2.06-2.06.94zm10 10l.94 2.06.94-2.06 2.06-.94-2.06-.94-.94-2.06-.94 2.06-2.06.94z\"/><path d=\"M17.41 7.96l-1.37-1.37c-.4-.4-.92-.59-1.43-.59-.52 0-1.04.2-1.43.59L10.3 9.45l-7.72 7.72c-.78.78-.78 2.05 0 2.83L4 21.41c.39.39.9.59 1.41.59.51 0 1.02-.2 1.41-.59l7.78-7.78 2.81-2.81c.8-.78.8-2.07 0-2.86zM5.41 20L4 18.59l7.72-7.72 1.47 1.35L5.41 20z\"/>\n",
              "  </svg>\n",
              "      </button>\n",
              "      \n",
              "  <style>\n",
              "    .colab-df-container {\n",
              "      display:flex;\n",
              "      flex-wrap:wrap;\n",
              "      gap: 12px;\n",
              "    }\n",
              "\n",
              "    .colab-df-convert {\n",
              "      background-color: #E8F0FE;\n",
              "      border: none;\n",
              "      border-radius: 50%;\n",
              "      cursor: pointer;\n",
              "      display: none;\n",
              "      fill: #1967D2;\n",
              "      height: 32px;\n",
              "      padding: 0 0 0 0;\n",
              "      width: 32px;\n",
              "    }\n",
              "\n",
              "    .colab-df-convert:hover {\n",
              "      background-color: #E2EBFA;\n",
              "      box-shadow: 0px 1px 2px rgba(60, 64, 67, 0.3), 0px 1px 3px 1px rgba(60, 64, 67, 0.15);\n",
              "      fill: #174EA6;\n",
              "    }\n",
              "\n",
              "    [theme=dark] .colab-df-convert {\n",
              "      background-color: #3B4455;\n",
              "      fill: #D2E3FC;\n",
              "    }\n",
              "\n",
              "    [theme=dark] .colab-df-convert:hover {\n",
              "      background-color: #434B5C;\n",
              "      box-shadow: 0px 1px 3px 1px rgba(0, 0, 0, 0.15);\n",
              "      filter: drop-shadow(0px 1px 2px rgba(0, 0, 0, 0.3));\n",
              "      fill: #FFFFFF;\n",
              "    }\n",
              "  </style>\n",
              "\n",
              "      <script>\n",
              "        const buttonEl =\n",
              "          document.querySelector('#df-5c5e25cf-9f65-433c-a3ad-6628ee96fe29 button.colab-df-convert');\n",
              "        buttonEl.style.display =\n",
              "          google.colab.kernel.accessAllowed ? 'block' : 'none';\n",
              "\n",
              "        async function convertToInteractive(key) {\n",
              "          const element = document.querySelector('#df-5c5e25cf-9f65-433c-a3ad-6628ee96fe29');\n",
              "          const dataTable =\n",
              "            await google.colab.kernel.invokeFunction('convertToInteractive',\n",
              "                                                     [key], {});\n",
              "          if (!dataTable) return;\n",
              "\n",
              "          const docLinkHtml = 'Like what you see? Visit the ' +\n",
              "            '<a target=\"_blank\" href=https://colab.research.google.com/notebooks/data_table.ipynb>data table notebook</a>'\n",
              "            + ' to learn more about interactive tables.';\n",
              "          element.innerHTML = '';\n",
              "          dataTable['output_type'] = 'display_data';\n",
              "          await google.colab.output.renderOutput(dataTable, element);\n",
              "          const docLink = document.createElement('div');\n",
              "          docLink.innerHTML = docLinkHtml;\n",
              "          element.appendChild(docLink);\n",
              "        }\n",
              "      </script>\n",
              "    </div>\n",
              "  </div>\n",
              "  "
            ]
          },
          "metadata": {},
          "execution_count": 154
        }
      ]
    },
    {
      "cell_type": "code",
      "source": [
        "df.shape"
      ],
      "metadata": {
        "colab": {
          "base_uri": "https://localhost:8080/",
          "height": 0
        },
        "id": "jYZxmMvirly0",
        "outputId": "51d32a0e-aeb0-406d-b1e2-9cd5b6bdf024"
      },
      "execution_count": 155,
      "outputs": [
        {
          "output_type": "execute_result",
          "data": {
            "text/plain": [
              "(70000, 13)"
            ]
          },
          "metadata": {},
          "execution_count": 155
        }
      ]
    },
    {
      "cell_type": "code",
      "source": [
        "#check for missing data\n",
        "df.isna().sum()"
      ],
      "metadata": {
        "colab": {
          "base_uri": "https://localhost:8080/",
          "height": 0
        },
        "id": "6pbd5wUzsqxG",
        "outputId": "fad2c984-b3fb-4e18-ed76-d7da3d9a114d"
      },
      "execution_count": 156,
      "outputs": [
        {
          "output_type": "execute_result",
          "data": {
            "text/plain": [
              "id             0\n",
              "age            0\n",
              "sex            0\n",
              "height         0\n",
              "weight         0\n",
              "ap_hi          0\n",
              "ap_lo          0\n",
              "cholesterol    0\n",
              "gluc           0\n",
              "smoke          0\n",
              "alco           0\n",
              "active         0\n",
              "cardio         0\n",
              "dtype: int64"
            ]
          },
          "metadata": {},
          "execution_count": 156
        }
      ]
    },
    {
      "cell_type": "markdown",
      "source": [
        "Check for any null or missing values"
      ],
      "metadata": {
        "id": "SVr9Mo5xtMBY"
      }
    },
    {
      "cell_type": "code",
      "source": [
        "df.isnull().values.any()"
      ],
      "metadata": {
        "colab": {
          "base_uri": "https://localhost:8080/",
          "height": 0
        },
        "id": "MAInqvGHsyV7",
        "outputId": "3268e0c1-7947-4052-d9a4-7a9e4a9e3ea7"
      },
      "execution_count": 157,
      "outputs": [
        {
          "output_type": "execute_result",
          "data": {
            "text/plain": [
              "False"
            ]
          },
          "metadata": {},
          "execution_count": 157
        }
      ]
    },
    {
      "cell_type": "markdown",
      "source": [
        "View basic stats"
      ],
      "metadata": {
        "id": "DBgu7jhStO2p"
      }
    },
    {
      "cell_type": "code",
      "source": [
        "df.describe()"
      ],
      "metadata": {
        "colab": {
          "base_uri": "https://localhost:8080/",
          "height": 364
        },
        "id": "H59FWTeis6Zf",
        "outputId": "8967ec3b-300a-45f0-816a-8b00de9f21fa"
      },
      "execution_count": 158,
      "outputs": [
        {
          "output_type": "execute_result",
          "data": {
            "text/plain": [
              "                 id           age           sex        height        weight  \\\n",
              "count  70000.000000  70000.000000  70000.000000  70000.000000  70000.000000   \n",
              "mean   49972.419900  19468.865814      1.349571    164.359229     74.205690   \n",
              "std    28851.302323   2467.251667      0.476838      8.210126     14.395757   \n",
              "min        0.000000  10798.000000      1.000000     55.000000     10.000000   \n",
              "25%    25006.750000  17664.000000      1.000000    159.000000     65.000000   \n",
              "50%    50001.500000  19703.000000      1.000000    165.000000     72.000000   \n",
              "75%    74889.250000  21327.000000      2.000000    170.000000     82.000000   \n",
              "max    99999.000000  23713.000000      2.000000    250.000000    200.000000   \n",
              "\n",
              "              ap_hi         ap_lo   cholesterol          gluc         smoke  \\\n",
              "count  70000.000000  70000.000000  70000.000000  70000.000000  70000.000000   \n",
              "mean     128.817286     96.630414      1.366871      1.226457      0.088129   \n",
              "std      154.011419    188.472530      0.680250      0.572270      0.283484   \n",
              "min     -150.000000    -70.000000      1.000000      1.000000      0.000000   \n",
              "25%      120.000000     80.000000      1.000000      1.000000      0.000000   \n",
              "50%      120.000000     80.000000      1.000000      1.000000      0.000000   \n",
              "75%      140.000000     90.000000      2.000000      1.000000      0.000000   \n",
              "max    16020.000000  11000.000000      3.000000      3.000000      1.000000   \n",
              "\n",
              "               alco        active        cardio  \n",
              "count  70000.000000  70000.000000  70000.000000  \n",
              "mean       0.053771      0.803729      0.499700  \n",
              "std        0.225568      0.397179      0.500003  \n",
              "min        0.000000      0.000000      0.000000  \n",
              "25%        0.000000      1.000000      0.000000  \n",
              "50%        0.000000      1.000000      0.000000  \n",
              "75%        0.000000      1.000000      1.000000  \n",
              "max        1.000000      1.000000      1.000000  "
            ],
            "text/html": [
              "\n",
              "  <div id=\"df-d0f2d4f3-a8bb-4c5f-a1f8-1ae3e2f21efc\">\n",
              "    <div class=\"colab-df-container\">\n",
              "      <div>\n",
              "<style scoped>\n",
              "    .dataframe tbody tr th:only-of-type {\n",
              "        vertical-align: middle;\n",
              "    }\n",
              "\n",
              "    .dataframe tbody tr th {\n",
              "        vertical-align: top;\n",
              "    }\n",
              "\n",
              "    .dataframe thead th {\n",
              "        text-align: right;\n",
              "    }\n",
              "</style>\n",
              "<table border=\"1\" class=\"dataframe\">\n",
              "  <thead>\n",
              "    <tr style=\"text-align: right;\">\n",
              "      <th></th>\n",
              "      <th>id</th>\n",
              "      <th>age</th>\n",
              "      <th>sex</th>\n",
              "      <th>height</th>\n",
              "      <th>weight</th>\n",
              "      <th>ap_hi</th>\n",
              "      <th>ap_lo</th>\n",
              "      <th>cholesterol</th>\n",
              "      <th>gluc</th>\n",
              "      <th>smoke</th>\n",
              "      <th>alco</th>\n",
              "      <th>active</th>\n",
              "      <th>cardio</th>\n",
              "    </tr>\n",
              "  </thead>\n",
              "  <tbody>\n",
              "    <tr>\n",
              "      <th>count</th>\n",
              "      <td>70000.000000</td>\n",
              "      <td>70000.000000</td>\n",
              "      <td>70000.000000</td>\n",
              "      <td>70000.000000</td>\n",
              "      <td>70000.000000</td>\n",
              "      <td>70000.000000</td>\n",
              "      <td>70000.000000</td>\n",
              "      <td>70000.000000</td>\n",
              "      <td>70000.000000</td>\n",
              "      <td>70000.000000</td>\n",
              "      <td>70000.000000</td>\n",
              "      <td>70000.000000</td>\n",
              "      <td>70000.000000</td>\n",
              "    </tr>\n",
              "    <tr>\n",
              "      <th>mean</th>\n",
              "      <td>49972.419900</td>\n",
              "      <td>19468.865814</td>\n",
              "      <td>1.349571</td>\n",
              "      <td>164.359229</td>\n",
              "      <td>74.205690</td>\n",
              "      <td>128.817286</td>\n",
              "      <td>96.630414</td>\n",
              "      <td>1.366871</td>\n",
              "      <td>1.226457</td>\n",
              "      <td>0.088129</td>\n",
              "      <td>0.053771</td>\n",
              "      <td>0.803729</td>\n",
              "      <td>0.499700</td>\n",
              "    </tr>\n",
              "    <tr>\n",
              "      <th>std</th>\n",
              "      <td>28851.302323</td>\n",
              "      <td>2467.251667</td>\n",
              "      <td>0.476838</td>\n",
              "      <td>8.210126</td>\n",
              "      <td>14.395757</td>\n",
              "      <td>154.011419</td>\n",
              "      <td>188.472530</td>\n",
              "      <td>0.680250</td>\n",
              "      <td>0.572270</td>\n",
              "      <td>0.283484</td>\n",
              "      <td>0.225568</td>\n",
              "      <td>0.397179</td>\n",
              "      <td>0.500003</td>\n",
              "    </tr>\n",
              "    <tr>\n",
              "      <th>min</th>\n",
              "      <td>0.000000</td>\n",
              "      <td>10798.000000</td>\n",
              "      <td>1.000000</td>\n",
              "      <td>55.000000</td>\n",
              "      <td>10.000000</td>\n",
              "      <td>-150.000000</td>\n",
              "      <td>-70.000000</td>\n",
              "      <td>1.000000</td>\n",
              "      <td>1.000000</td>\n",
              "      <td>0.000000</td>\n",
              "      <td>0.000000</td>\n",
              "      <td>0.000000</td>\n",
              "      <td>0.000000</td>\n",
              "    </tr>\n",
              "    <tr>\n",
              "      <th>25%</th>\n",
              "      <td>25006.750000</td>\n",
              "      <td>17664.000000</td>\n",
              "      <td>1.000000</td>\n",
              "      <td>159.000000</td>\n",
              "      <td>65.000000</td>\n",
              "      <td>120.000000</td>\n",
              "      <td>80.000000</td>\n",
              "      <td>1.000000</td>\n",
              "      <td>1.000000</td>\n",
              "      <td>0.000000</td>\n",
              "      <td>0.000000</td>\n",
              "      <td>1.000000</td>\n",
              "      <td>0.000000</td>\n",
              "    </tr>\n",
              "    <tr>\n",
              "      <th>50%</th>\n",
              "      <td>50001.500000</td>\n",
              "      <td>19703.000000</td>\n",
              "      <td>1.000000</td>\n",
              "      <td>165.000000</td>\n",
              "      <td>72.000000</td>\n",
              "      <td>120.000000</td>\n",
              "      <td>80.000000</td>\n",
              "      <td>1.000000</td>\n",
              "      <td>1.000000</td>\n",
              "      <td>0.000000</td>\n",
              "      <td>0.000000</td>\n",
              "      <td>1.000000</td>\n",
              "      <td>0.000000</td>\n",
              "    </tr>\n",
              "    <tr>\n",
              "      <th>75%</th>\n",
              "      <td>74889.250000</td>\n",
              "      <td>21327.000000</td>\n",
              "      <td>2.000000</td>\n",
              "      <td>170.000000</td>\n",
              "      <td>82.000000</td>\n",
              "      <td>140.000000</td>\n",
              "      <td>90.000000</td>\n",
              "      <td>2.000000</td>\n",
              "      <td>1.000000</td>\n",
              "      <td>0.000000</td>\n",
              "      <td>0.000000</td>\n",
              "      <td>1.000000</td>\n",
              "      <td>1.000000</td>\n",
              "    </tr>\n",
              "    <tr>\n",
              "      <th>max</th>\n",
              "      <td>99999.000000</td>\n",
              "      <td>23713.000000</td>\n",
              "      <td>2.000000</td>\n",
              "      <td>250.000000</td>\n",
              "      <td>200.000000</td>\n",
              "      <td>16020.000000</td>\n",
              "      <td>11000.000000</td>\n",
              "      <td>3.000000</td>\n",
              "      <td>3.000000</td>\n",
              "      <td>1.000000</td>\n",
              "      <td>1.000000</td>\n",
              "      <td>1.000000</td>\n",
              "      <td>1.000000</td>\n",
              "    </tr>\n",
              "  </tbody>\n",
              "</table>\n",
              "</div>\n",
              "      <button class=\"colab-df-convert\" onclick=\"convertToInteractive('df-d0f2d4f3-a8bb-4c5f-a1f8-1ae3e2f21efc')\"\n",
              "              title=\"Convert this dataframe to an interactive table.\"\n",
              "              style=\"display:none;\">\n",
              "        \n",
              "  <svg xmlns=\"http://www.w3.org/2000/svg\" height=\"24px\"viewBox=\"0 0 24 24\"\n",
              "       width=\"24px\">\n",
              "    <path d=\"M0 0h24v24H0V0z\" fill=\"none\"/>\n",
              "    <path d=\"M18.56 5.44l.94 2.06.94-2.06 2.06-.94-2.06-.94-.94-2.06-.94 2.06-2.06.94zm-11 1L8.5 8.5l.94-2.06 2.06-.94-2.06-.94L8.5 2.5l-.94 2.06-2.06.94zm10 10l.94 2.06.94-2.06 2.06-.94-2.06-.94-.94-2.06-.94 2.06-2.06.94z\"/><path d=\"M17.41 7.96l-1.37-1.37c-.4-.4-.92-.59-1.43-.59-.52 0-1.04.2-1.43.59L10.3 9.45l-7.72 7.72c-.78.78-.78 2.05 0 2.83L4 21.41c.39.39.9.59 1.41.59.51 0 1.02-.2 1.41-.59l7.78-7.78 2.81-2.81c.8-.78.8-2.07 0-2.86zM5.41 20L4 18.59l7.72-7.72 1.47 1.35L5.41 20z\"/>\n",
              "  </svg>\n",
              "      </button>\n",
              "      \n",
              "  <style>\n",
              "    .colab-df-container {\n",
              "      display:flex;\n",
              "      flex-wrap:wrap;\n",
              "      gap: 12px;\n",
              "    }\n",
              "\n",
              "    .colab-df-convert {\n",
              "      background-color: #E8F0FE;\n",
              "      border: none;\n",
              "      border-radius: 50%;\n",
              "      cursor: pointer;\n",
              "      display: none;\n",
              "      fill: #1967D2;\n",
              "      height: 32px;\n",
              "      padding: 0 0 0 0;\n",
              "      width: 32px;\n",
              "    }\n",
              "\n",
              "    .colab-df-convert:hover {\n",
              "      background-color: #E2EBFA;\n",
              "      box-shadow: 0px 1px 2px rgba(60, 64, 67, 0.3), 0px 1px 3px 1px rgba(60, 64, 67, 0.15);\n",
              "      fill: #174EA6;\n",
              "    }\n",
              "\n",
              "    [theme=dark] .colab-df-convert {\n",
              "      background-color: #3B4455;\n",
              "      fill: #D2E3FC;\n",
              "    }\n",
              "\n",
              "    [theme=dark] .colab-df-convert:hover {\n",
              "      background-color: #434B5C;\n",
              "      box-shadow: 0px 1px 3px 1px rgba(0, 0, 0, 0.15);\n",
              "      filter: drop-shadow(0px 1px 2px rgba(0, 0, 0, 0.3));\n",
              "      fill: #FFFFFF;\n",
              "    }\n",
              "  </style>\n",
              "\n",
              "      <script>\n",
              "        const buttonEl =\n",
              "          document.querySelector('#df-d0f2d4f3-a8bb-4c5f-a1f8-1ae3e2f21efc button.colab-df-convert');\n",
              "        buttonEl.style.display =\n",
              "          google.colab.kernel.accessAllowed ? 'block' : 'none';\n",
              "\n",
              "        async function convertToInteractive(key) {\n",
              "          const element = document.querySelector('#df-d0f2d4f3-a8bb-4c5f-a1f8-1ae3e2f21efc');\n",
              "          const dataTable =\n",
              "            await google.colab.kernel.invokeFunction('convertToInteractive',\n",
              "                                                     [key], {});\n",
              "          if (!dataTable) return;\n",
              "\n",
              "          const docLinkHtml = 'Like what you see? Visit the ' +\n",
              "            '<a target=\"_blank\" href=https://colab.research.google.com/notebooks/data_table.ipynb>data table notebook</a>'\n",
              "            + ' to learn more about interactive tables.';\n",
              "          element.innerHTML = '';\n",
              "          dataTable['output_type'] = 'display_data';\n",
              "          await google.colab.output.renderOutput(dataTable, element);\n",
              "          const docLink = document.createElement('div');\n",
              "          docLink.innerHTML = docLinkHtml;\n",
              "          element.appendChild(docLink);\n",
              "        }\n",
              "      </script>\n",
              "    </div>\n",
              "  </div>\n",
              "  "
            ]
          },
          "metadata": {},
          "execution_count": 158
        }
      ]
    },
    {
      "cell_type": "markdown",
      "source": [
        "No of patients with heart disease and those without"
      ],
      "metadata": {
        "id": "0zj3kOKntdgR"
      }
    },
    {
      "cell_type": "code",
      "source": [
        "df['cardio'].value_counts()"
      ],
      "metadata": {
        "colab": {
          "base_uri": "https://localhost:8080/",
          "height": 0
        },
        "id": "3jZuM2IjtQrD",
        "outputId": "bcfe45dd-c777-4169-bd0a-c6eaea6379e8"
      },
      "execution_count": 159,
      "outputs": [
        {
          "output_type": "execute_result",
          "data": {
            "text/plain": [
              "0    35021\n",
              "1    34979\n",
              "Name: cardio, dtype: int64"
            ]
          },
          "metadata": {},
          "execution_count": 159
        }
      ]
    },
    {
      "cell_type": "markdown",
      "source": [
        "Visualize the count"
      ],
      "metadata": {
        "id": "A5XDgyJctqh7"
      }
    },
    {
      "cell_type": "code",
      "source": [
        "sns.countplot((df['cardio']))"
      ],
      "metadata": {
        "colab": {
          "base_uri": "https://localhost:8080/",
          "height": 575
        },
        "id": "134fHt6-trkA",
        "outputId": "ba3f824d-0a27-4503-b519-f2323f4bf533"
      },
      "execution_count": 160,
      "outputs": [
        {
          "output_type": "stream",
          "name": "stderr",
          "text": [
            "/usr/local/lib/python3.7/dist-packages/seaborn/_decorators.py:43: FutureWarning: Pass the following variable as a keyword arg: x. From version 0.12, the only valid positional argument will be `data`, and passing other arguments without an explicit keyword will result in an error or misinterpretation.\n",
            "  FutureWarning\n"
          ]
        },
        {
          "output_type": "execute_result",
          "data": {
            "text/plain": [
              "<matplotlib.axes._subplots.AxesSubplot at 0x7fc38e22dbd0>"
            ]
          },
          "metadata": {},
          "execution_count": 160
        },
        {
          "output_type": "display_data",
          "data": {
            "text/plain": [
              "<Figure size 1080x576 with 1 Axes>"
            ],
            "image/png": "[encoded data removed]"
          },
          "metadata": {}
        }
      ]
    },
    {
      "cell_type": "markdown",
      "source": [
        "Look at the number of people with heart disease vs number of those without"
      ],
      "metadata": {
        "id": "OedGVDuetzpk"
      }
    },
    {
      "cell_type": "code",
      "source": [
        "#create a years column\n",
        "df['years'] = (df['age'] / 365).round(0)\n",
        "df['years'] = pd.to_numeric(df['years'], downcast='integer')"
      ],
      "metadata": {
        "id": "UiUkoBRhtjvs"
      },
      "execution_count": 161,
      "outputs": []
    },
    {
      "cell_type": "code",
      "source": [
        "#visualize the data\n",
        "sns.set(rc = {'figure.figsize':(15,8)})\n",
        "\n",
        "sns.countplot(x=df['years'], hue=df['cardio'], palette = 'colorblind', edgecolor = sns.color_palette('dark', n_colors = 1)).set(title='heart disease vs age')"
      ],
      "metadata": {
        "colab": {
          "base_uri": "https://localhost:8080/",
          "height": 535
        },
        "id": "6eFVf_5auKas",
        "outputId": "c41831de-5ad9-44c6-cd0d-0e0686e5c9b0"
      },
      "execution_count": 162,
      "outputs": [
        {
          "output_type": "execute_result",
          "data": {
            "text/plain": [
              "[Text(0.5, 1.0, 'heart disease vs age')]"
            ]
          },
          "metadata": {},
          "execution_count": 162
        },
        {
          "output_type": "display_data",
          "data": {
            "text/plain": [
              "<Figure size 1080x576 with 1 Axes>"
            ],
            "image/png": "[encoded data removed]"
          },
          "metadata": {}
        }
      ]
    },
    {
      "cell_type": "markdown",
      "source": [
        "Get the correlation of the columns"
      ],
      "metadata": {
        "id": "aIT0psiDvp-A"
      }
    },
    {
      "cell_type": "code",
      "source": [
        "df.corr()"
      ],
      "metadata": {
        "colab": {
          "base_uri": "https://localhost:8080/",
          "height": 552
        },
        "id": "H21A1c1OusrF",
        "outputId": "df742c31-53f7-486c-fe05-7796025699dc"
      },
      "execution_count": 163,
      "outputs": [
        {
          "output_type": "execute_result",
          "data": {
            "text/plain": [
              "                   id       age       sex    height    weight     ap_hi  \\\n",
              "id           1.000000  0.003457  0.003502 -0.003038 -0.001830  0.003356   \n",
              "age          0.003457  1.000000 -0.022811 -0.081515  0.053684  0.020764   \n",
              "sex          0.003502 -0.022811  1.000000  0.499033  0.155406  0.006005   \n",
              "height      -0.003038 -0.081515  0.499033  1.000000  0.290968  0.005488   \n",
              "weight      -0.001830  0.053684  0.155406  0.290968  1.000000  0.030702   \n",
              "ap_hi        0.003356  0.020764  0.006005  0.005488  0.030702  1.000000   \n",
              "ap_lo       -0.002529  0.017647  0.015254  0.006150  0.043710  0.016086   \n",
              "cholesterol  0.006106  0.154424 -0.035821 -0.050226  0.141768  0.023778   \n",
              "gluc         0.002467  0.098703 -0.020491 -0.018595  0.106857  0.011841   \n",
              "smoke       -0.003699 -0.047633  0.338135  0.187989  0.067780 -0.000922   \n",
              "alco         0.001210 -0.029723  0.170966  0.094419  0.067113  0.001408   \n",
              "active       0.003755 -0.009927  0.005866 -0.006570 -0.016867 -0.000033   \n",
              "cardio       0.003799  0.238159  0.008109 -0.010821  0.181660  0.054475   \n",
              "years        0.003050  0.999090 -0.023017 -0.081456  0.053661  0.020793   \n",
              "\n",
              "                ap_lo  cholesterol      gluc     smoke      alco    active  \\\n",
              "id          -0.002529     0.006106  0.002467 -0.003699  0.001210  0.003755   \n",
              "age          0.017647     0.154424  0.098703 -0.047633 -0.029723 -0.009927   \n",
              "sex          0.015254    -0.035821 -0.020491  0.338135  0.170966  0.005866   \n",
              "height       0.006150    -0.050226 -0.018595  0.187989  0.094419 -0.006570   \n",
              "weight       0.043710     0.141768  0.106857  0.067780  0.067113 -0.016867   \n",
              "ap_hi        0.016086     0.023778  0.011841 -0.000922  0.001408 -0.000033   \n",
              "ap_lo        1.000000     0.024019  0.010806  0.005186  0.010601  0.004780   \n",
              "cholesterol  0.024019     1.000000  0.451578  0.010354  0.035760  0.009911   \n",
              "gluc         0.010806     0.451578  1.000000 -0.004756  0.011246 -0.006770   \n",
              "smoke        0.005186     0.010354 -0.004756  1.000000  0.340094  0.025858   \n",
              "alco         0.010601     0.035760  0.011246  0.340094  1.000000  0.025476   \n",
              "active       0.004780     0.009911 -0.006770  0.025858  0.025476  1.000000   \n",
              "cardio       0.065719     0.221147  0.089307 -0.015486 -0.007330 -0.035653   \n",
              "years        0.017754     0.154386  0.098596 -0.047884 -0.029918 -0.009819   \n",
              "\n",
              "               cardio     years  \n",
              "id           0.003799  0.003050  \n",
              "age          0.238159  0.999090  \n",
              "sex          0.008109 -0.023017  \n",
              "height      -0.010821 -0.081456  \n",
              "weight       0.181660  0.053661  \n",
              "ap_hi        0.054475  0.020793  \n",
              "ap_lo        0.065719  0.017754  \n",
              "cholesterol  0.221147  0.154386  \n",
              "gluc         0.089307  0.098596  \n",
              "smoke       -0.015486 -0.047884  \n",
              "alco        -0.007330 -0.029918  \n",
              "active      -0.035653 -0.009819  \n",
              "cardio       1.000000  0.237749  \n",
              "years        0.237749  1.000000  "
            ],
            "text/html": [
              "\n",
              "  <div id=\"df-d0d0ce69-cdb9-479a-b69a-d16684ef5261\">\n",
              "    <div class=\"colab-df-container\">\n",
              "      <div>\n",
              "<style scoped>\n",
              "    .dataframe tbody tr th:only-of-type {\n",
              "        vertical-align: middle;\n",
              "    }\n",
              "\n",
              "    .dataframe tbody tr th {\n",
              "        vertical-align: top;\n",
              "    }\n",
              "\n",
              "    .dataframe thead th {\n",
              "        text-align: right;\n",
              "    }\n",
              "</style>\n",
              "<table border=\"1\" class=\"dataframe\">\n",
              "  <thead>\n",
              "    <tr style=\"text-align: right;\">\n",
              "      <th></th>\n",
              "      <th>id</th>\n",
              "      <th>age</th>\n",
              "      <th>sex</th>\n",
              "      <th>height</th>\n",
              "      <th>weight</th>\n",
              "      <th>ap_hi</th>\n",
              "      <th>ap_lo</th>\n",
              "      <th>cholesterol</th>\n",
              "      <th>gluc</th>\n",
              "      <th>smoke</th>\n",
              "      <th>alco</th>\n",
              "      <th>active</th>\n",
              "      <th>cardio</th>\n",
              "      <th>years</th>\n",
              "    </tr>\n",
              "  </thead>\n",
              "  <tbody>\n",
              "    <tr>\n",
              "      <th>id</th>\n",
              "      <td>1.000000</td>\n",
              "      <td>0.003457</td>\n",
              "      <td>0.003502</td>\n",
              "      <td>-0.003038</td>\n",
              "      <td>-0.001830</td>\n",
              "      <td>0.003356</td>\n",
              "      <td>-0.002529</td>\n",
              "      <td>0.006106</td>\n",
              "      <td>0.002467</td>\n",
              "      <td>-0.003699</td>\n",
              "      <td>0.001210</td>\n",
              "      <td>0.003755</td>\n",
              "      <td>0.003799</td>\n",
              "      <td>0.003050</td>\n",
              "    </tr>\n",
              "    <tr>\n",
              "      <th>age</th>\n",
              "      <td>0.003457</td>\n",
              "      <td>1.000000</td>\n",
              "      <td>-0.022811</td>\n",
              "      <td>-0.081515</td>\n",
              "      <td>0.053684</td>\n",
              "      <td>0.020764</td>\n",
              "      <td>0.017647</td>\n",
              "      <td>0.154424</td>\n",
              "      <td>0.098703</td>\n",
              "      <td>-0.047633</td>\n",
              "      <td>-0.029723</td>\n",
              "      <td>-0.009927</td>\n",
              "      <td>0.238159</td>\n",
              "      <td>0.999090</td>\n",
              "    </tr>\n",
              "    <tr>\n",
              "      <th>sex</th>\n",
              "      <td>0.003502</td>\n",
              "      <td>-0.022811</td>\n",
              "      <td>1.000000</td>\n",
              "      <td>0.499033</td>\n",
              "      <td>0.155406</td>\n",
              "      <td>0.006005</td>\n",
              "      <td>0.015254</td>\n",
              "      <td>-0.035821</td>\n",
              "      <td>-0.020491</td>\n",
              "      <td>0.338135</td>\n",
              "      <td>0.170966</td>\n",
              "      <td>0.005866</td>\n",
              "      <td>0.008109</td>\n",
              "      <td>-0.023017</td>\n",
              "    </tr>\n",
              "    <tr>\n",
              "      <th>height</th>\n",
              "      <td>-0.003038</td>\n",
              "      <td>-0.081515</td>\n",
              "      <td>0.499033</td>\n",
              "      <td>1.000000</td>\n",
              "      <td>0.290968</td>\n",
              "      <td>0.005488</td>\n",
              "      <td>0.006150</td>\n",
              "      <td>-0.050226</td>\n",
              "      <td>-0.018595</td>\n",
              "      <td>0.187989</td>\n",
              "      <td>0.094419</td>\n",
              "      <td>-0.006570</td>\n",
              "      <td>-0.010821</td>\n",
              "      <td>-0.081456</td>\n",
              "    </tr>\n",
              "    <tr>\n",
              "      <th>weight</th>\n",
              "      <td>-0.001830</td>\n",
              "      <td>0.053684</td>\n",
              "      <td>0.155406</td>\n",
              "      <td>0.290968</td>\n",
              "      <td>1.000000</td>\n",
              "      <td>0.030702</td>\n",
              "      <td>0.043710</td>\n",
              "      <td>0.141768</td>\n",
              "      <td>0.106857</td>\n",
              "      <td>0.067780</td>\n",
              "      <td>0.067113</td>\n",
              "      <td>-0.016867</td>\n",
              "      <td>0.181660</td>\n",
              "      <td>0.053661</td>\n",
              "    </tr>\n",
              "    <tr>\n",
              "      <th>ap_hi</th>\n",
              "      <td>0.003356</td>\n",
              "      <td>0.020764</td>\n",
              "      <td>0.006005</td>\n",
              "      <td>0.005488</td>\n",
              "      <td>0.030702</td>\n",
              "      <td>1.000000</td>\n",
              "      <td>0.016086</td>\n",
              "      <td>0.023778</td>\n",
              "      <td>0.011841</td>\n",
              "      <td>-0.000922</td>\n",
              "      <td>0.001408</td>\n",
              "      <td>-0.000033</td>\n",
              "      <td>0.054475</td>\n",
              "      <td>0.020793</td>\n",
              "    </tr>\n",
              "    <tr>\n",
              "      <th>ap_lo</th>\n",
              "      <td>-0.002529</td>\n",
              "      <td>0.017647</td>\n",
              "      <td>0.015254</td>\n",
              "      <td>0.006150</td>\n",
              "      <td>0.043710</td>\n",
              "      <td>0.016086</td>\n",
              "      <td>1.000000</td>\n",
              "      <td>0.024019</td>\n",
              "      <td>0.010806</td>\n",
              "      <td>0.005186</td>\n",
              "      <td>0.010601</td>\n",
              "      <td>0.004780</td>\n",
              "      <td>0.065719</td>\n",
              "      <td>0.017754</td>\n",
              "    </tr>\n",
              "    <tr>\n",
              "      <th>cholesterol</th>\n",
              "      <td>0.006106</td>\n",
              "      <td>0.154424</td>\n",
              "      <td>-0.035821</td>\n",
              "      <td>-0.050226</td>\n",
              "      <td>0.141768</td>\n",
              "      <td>0.023778</td>\n",
              "      <td>0.024019</td>\n",
              "      <td>1.000000</td>\n",
              "      <td>0.451578</td>\n",
              "      <td>0.010354</td>\n",
              "      <td>0.035760</td>\n",
              "      <td>0.009911</td>\n",
              "      <td>0.221147</td>\n",
              "      <td>0.154386</td>\n",
              "    </tr>\n",
              "    <tr>\n",
              "      <th>gluc</th>\n",
              "      <td>0.002467</td>\n",
              "      <td>0.098703</td>\n",
              "      <td>-0.020491</td>\n",
              "      <td>-0.018595</td>\n",
              "      <td>0.106857</td>\n",
              "      <td>0.011841</td>\n",
              "      <td>0.010806</td>\n",
              "      <td>0.451578</td>\n",
              "      <td>1.000000</td>\n",
              "      <td>-0.004756</td>\n",
              "      <td>0.011246</td>\n",
              "      <td>-0.006770</td>\n",
              "      <td>0.089307</td>\n",
              "      <td>0.098596</td>\n",
              "    </tr>\n",
              "    <tr>\n",
              "      <th>smoke</th>\n",
              "      <td>-0.003699</td>\n",
              "      <td>-0.047633</td>\n",
              "      <td>0.338135</td>\n",
              "      <td>0.187989</td>\n",
              "      <td>0.067780</td>\n",
              "      <td>-0.000922</td>\n",
              "      <td>0.005186</td>\n",
              "      <td>0.010354</td>\n",
              "      <td>-0.004756</td>\n",
              "      <td>1.000000</td>\n",
              "      <td>0.340094</td>\n",
              "      <td>0.025858</td>\n",
              "      <td>-0.015486</td>\n",
              "      <td>-0.047884</td>\n",
              "    </tr>\n",
              "    <tr>\n",
              "      <th>alco</th>\n",
              "      <td>0.001210</td>\n",
              "      <td>-0.029723</td>\n",
              "      <td>0.170966</td>\n",
              "      <td>0.094419</td>\n",
              "      <td>0.067113</td>\n",
              "      <td>0.001408</td>\n",
              "      <td>0.010601</td>\n",
              "      <td>0.035760</td>\n",
              "      <td>0.011246</td>\n",
              "      <td>0.340094</td>\n",
              "      <td>1.000000</td>\n",
              "      <td>0.025476</td>\n",
              "      <td>-0.007330</td>\n",
              "      <td>-0.029918</td>\n",
              "    </tr>\n",
              "    <tr>\n",
              "      <th>active</th>\n",
              "      <td>0.003755</td>\n",
              "      <td>-0.009927</td>\n",
              "      <td>0.005866</td>\n",
              "      <td>-0.006570</td>\n",
              "      <td>-0.016867</td>\n",
              "      <td>-0.000033</td>\n",
              "      <td>0.004780</td>\n",
              "      <td>0.009911</td>\n",
              "      <td>-0.006770</td>\n",
              "      <td>0.025858</td>\n",
              "      <td>0.025476</td>\n",
              "      <td>1.000000</td>\n",
              "      <td>-0.035653</td>\n",
              "      <td>-0.009819</td>\n",
              "    </tr>\n",
              "    <tr>\n",
              "      <th>cardio</th>\n",
              "      <td>0.003799</td>\n",
              "      <td>0.238159</td>\n",
              "      <td>0.008109</td>\n",
              "      <td>-0.010821</td>\n",
              "      <td>0.181660</td>\n",
              "      <td>0.054475</td>\n",
              "      <td>0.065719</td>\n",
              "      <td>0.221147</td>\n",
              "      <td>0.089307</td>\n",
              "      <td>-0.015486</td>\n",
              "      <td>-0.007330</td>\n",
              "      <td>-0.035653</td>\n",
              "      <td>1.000000</td>\n",
              "      <td>0.237749</td>\n",
              "    </tr>\n",
              "    <tr>\n",
              "      <th>years</th>\n",
              "      <td>0.003050</td>\n",
              "      <td>0.999090</td>\n",
              "      <td>-0.023017</td>\n",
              "      <td>-0.081456</td>\n",
              "      <td>0.053661</td>\n",
              "      <td>0.020793</td>\n",
              "      <td>0.017754</td>\n",
              "      <td>0.154386</td>\n",
              "      <td>0.098596</td>\n",
              "      <td>-0.047884</td>\n",
              "      <td>-0.029918</td>\n",
              "      <td>-0.009819</td>\n",
              "      <td>0.237749</td>\n",
              "      <td>1.000000</td>\n",
              "    </tr>\n",
              "  </tbody>\n",
              "</table>\n",
              "</div>\n",
              "      <button class=\"colab-df-convert\" onclick=\"convertToInteractive('df-d0d0ce69-cdb9-479a-b69a-d16684ef5261')\"\n",
              "              title=\"Convert this dataframe to an interactive table.\"\n",
              "              style=\"display:none;\">\n",
              "        \n",
              "  <svg xmlns=\"http://www.w3.org/2000/svg\" height=\"24px\"viewBox=\"0 0 24 24\"\n",
              "       width=\"24px\">\n",
              "    <path d=\"M0 0h24v24H0V0z\" fill=\"none\"/>\n",
              "    <path d=\"M18.56 5.44l.94 2.06.94-2.06 2.06-.94-2.06-.94-.94-2.06-.94 2.06-2.06.94zm-11 1L8.5 8.5l.94-2.06 2.06-.94-2.06-.94L8.5 2.5l-.94 2.06-2.06.94zm10 10l.94 2.06.94-2.06 2.06-.94-2.06-.94-.94-2.06-.94 2.06-2.06.94z\"/><path d=\"M17.41 7.96l-1.37-1.37c-.4-.4-.92-.59-1.43-.59-.52 0-1.04.2-1.43.59L10.3 9.45l-7.72 7.72c-.78.78-.78 2.05 0 2.83L4 21.41c.39.39.9.59 1.41.59.51 0 1.02-.2 1.41-.59l7.78-7.78 2.81-2.81c.8-.78.8-2.07 0-2.86zM5.41 20L4 18.59l7.72-7.72 1.47 1.35L5.41 20z\"/>\n",
              "  </svg>\n",
              "      </button>\n",
              "      \n",
              "  <style>\n",
              "    .colab-df-container {\n",
              "      display:flex;\n",
              "      flex-wrap:wrap;\n",
              "      gap: 12px;\n",
              "    }\n",
              "\n",
              "    .colab-df-convert {\n",
              "      background-color: #E8F0FE;\n",
              "      border: none;\n",
              "      border-radius: 50%;\n",
              "      cursor: pointer;\n",
              "      display: none;\n",
              "      fill: #1967D2;\n",
              "      height: 32px;\n",
              "      padding: 0 0 0 0;\n",
              "      width: 32px;\n",
              "    }\n",
              "\n",
              "    .colab-df-convert:hover {\n",
              "      background-color: #E2EBFA;\n",
              "      box-shadow: 0px 1px 2px rgba(60, 64, 67, 0.3), 0px 1px 3px 1px rgba(60, 64, 67, 0.15);\n",
              "      fill: #174EA6;\n",
              "    }\n",
              "\n",
              "    [theme=dark] .colab-df-convert {\n",
              "      background-color: #3B4455;\n",
              "      fill: #D2E3FC;\n",
              "    }\n",
              "\n",
              "    [theme=dark] .colab-df-convert:hover {\n",
              "      background-color: #434B5C;\n",
              "      box-shadow: 0px 1px 3px 1px rgba(0, 0, 0, 0.15);\n",
              "      filter: drop-shadow(0px 1px 2px rgba(0, 0, 0, 0.3));\n",
              "      fill: #FFFFFF;\n",
              "    }\n",
              "  </style>\n",
              "\n",
              "      <script>\n",
              "        const buttonEl =\n",
              "          document.querySelector('#df-d0d0ce69-cdb9-479a-b69a-d16684ef5261 button.colab-df-convert');\n",
              "        buttonEl.style.display =\n",
              "          google.colab.kernel.accessAllowed ? 'block' : 'none';\n",
              "\n",
              "        async function convertToInteractive(key) {\n",
              "          const element = document.querySelector('#df-d0d0ce69-cdb9-479a-b69a-d16684ef5261');\n",
              "          const dataTable =\n",
              "            await google.colab.kernel.invokeFunction('convertToInteractive',\n",
              "                                                     [key], {});\n",
              "          if (!dataTable) return;\n",
              "\n",
              "          const docLinkHtml = 'Like what you see? Visit the ' +\n",
              "            '<a target=\"_blank\" href=https://colab.research.google.com/notebooks/data_table.ipynb>data table notebook</a>'\n",
              "            + ' to learn more about interactive tables.';\n",
              "          element.innerHTML = '';\n",
              "          dataTable['output_type'] = 'display_data';\n",
              "          await google.colab.output.renderOutput(dataTable, element);\n",
              "          const docLink = document.createElement('div');\n",
              "          docLink.innerHTML = docLinkHtml;\n",
              "          element.appendChild(docLink);\n",
              "        }\n",
              "      </script>\n",
              "    </div>\n",
              "  </div>\n",
              "  "
            ]
          },
          "metadata": {},
          "execution_count": 163
        }
      ]
    },
    {
      "cell_type": "markdown",
      "source": [
        "Making a correlation plot"
      ],
      "metadata": {
        "id": "BuJkBF5Z5KGJ"
      }
    },
    {
      "cell_type": "code",
      "source": [
        "sns.heatmap(df.corr(), annot=True, fmt ='.0%')"
      ],
      "metadata": {
        "colab": {
          "base_uri": "https://localhost:8080/",
          "height": 507
        },
        "id": "yva1_PUIvsh5",
        "outputId": "97ef4c52-21f9-46fe-dee9-75a2e0f105af"
      },
      "execution_count": 164,
      "outputs": [
        {
          "output_type": "execute_result",
          "data": {
            "text/plain": [
              "<matplotlib.axes._subplots.AxesSubplot at 0x7fc38e039a90>"
            ]
          },
          "metadata": {},
          "execution_count": 164
        },
        {
          "output_type": "display_data",
          "data": {
            "text/plain": [
              "<Figure size 1080x576 with 2 Axes>"
            ],
            "image/png": "[encoded data removed]"
          },
          "metadata": {}
        }
      ]
    },
    {
      "cell_type": "markdown",
      "source": [
        "Removing the Years and ID columns"
      ],
      "metadata": {
        "id": "z7uSsT6C5HVK"
      }
    },
    {
      "cell_type": "code",
      "source": [
        "#Remove the years and id columns\n",
        "df = df.drop(['years', 'id'], axis = 1)"
      ],
      "metadata": {
        "id": "bXrsx54ivwyS"
      },
      "execution_count": 165,
      "outputs": []
    },
    {
      "cell_type": "markdown",
      "source": [
        "Splitting the dataset"
      ],
      "metadata": {
        "id": "KYEefm6cwnUU"
      }
    },
    {
      "cell_type": "code",
      "source": [
        "#We are selection all the rows and columns except those of the last one\n",
        "X = df.iloc[:,:-1].values"
      ],
      "metadata": {
        "id": "9fN8a-Ljwe3b"
      },
      "execution_count": 166,
      "outputs": []
    },
    {
      "cell_type": "markdown",
      "source": [
        "Taking a look at the features"
      ],
      "metadata": {
        "id": "hrzITURb5FC4"
      }
    },
    {
      "cell_type": "code",
      "source": [
        "X"
      ],
      "metadata": {
        "colab": {
          "base_uri": "https://localhost:8080/",
          "height": 0
        },
        "id": "FmmE26pJw7Zb",
        "outputId": "0af12dc5-c3cb-4f62-9ebf-3bbc18245e02"
      },
      "execution_count": 167,
      "outputs": [
        {
          "output_type": "execute_result",
          "data": {
            "text/plain": [
              "array([[1.8393e+04, 2.0000e+00, 1.6800e+02, ..., 0.0000e+00, 0.0000e+00,\n",
              "        1.0000e+00],\n",
              "       [2.0228e+04, 1.0000e+00, 1.5600e+02, ..., 0.0000e+00, 0.0000e+00,\n",
              "        1.0000e+00],\n",
              "       [1.8857e+04, 1.0000e+00, 1.6500e+02, ..., 0.0000e+00, 0.0000e+00,\n",
              "        0.0000e+00],\n",
              "       ...,\n",
              "       [1.9066e+04, 2.0000e+00, 1.8300e+02, ..., 0.0000e+00, 1.0000e+00,\n",
              "        0.0000e+00],\n",
              "       [2.2431e+04, 1.0000e+00, 1.6300e+02, ..., 0.0000e+00, 0.0000e+00,\n",
              "        0.0000e+00],\n",
              "       [2.0540e+04, 1.0000e+00, 1.7000e+02, ..., 0.0000e+00, 0.0000e+00,\n",
              "        1.0000e+00]])"
            ]
          },
          "metadata": {},
          "execution_count": 167
        }
      ]
    },
    {
      "cell_type": "code",
      "source": [
        "y = df.iloc[:,-1:]"
      ],
      "metadata": {
        "id": "0JISdQ4Qw0NS"
      },
      "execution_count": 168,
      "outputs": []
    },
    {
      "cell_type": "markdown",
      "source": [
        "Taking a look at the labels"
      ],
      "metadata": {
        "id": "GliF9bNj5DMm"
      }
    },
    {
      "cell_type": "code",
      "source": [
        "y.values"
      ],
      "metadata": {
        "colab": {
          "base_uri": "https://localhost:8080/",
          "height": 0
        },
        "id": "MnFReJkrw5I_",
        "outputId": "4cdcaaad-cc5a-4cb9-bf82-b37cce4e8e6a"
      },
      "execution_count": 169,
      "outputs": [
        {
          "output_type": "execute_result",
          "data": {
            "text/plain": [
              "array([[0],\n",
              "       [1],\n",
              "       [1],\n",
              "       ...,\n",
              "       [1],\n",
              "       [1],\n",
              "       [0]])"
            ]
          },
          "metadata": {},
          "execution_count": 169
        }
      ]
    },
    {
      "cell_type": "markdown",
      "source": [
        "Splitting the Dataset"
      ],
      "metadata": {
        "id": "o4vycR3c5ADJ"
      }
    },
    {
      "cell_type": "code",
      "source": [
        "X_train, X_test, y_train, y_test = train_test_split(X, y, test_size = 0.30, random_state = 20)"
      ],
      "metadata": {
        "id": "5SoTstHOw5eK"
      },
      "execution_count": 170,
      "outputs": []
    },
    {
      "cell_type": "markdown",
      "source": [
        "Feature Scaling"
      ],
      "metadata": {
        "id": "JpPw3UOcxUHv"
      }
    },
    {
      "cell_type": "code",
      "source": [
        "sc = StandardScaler()\n",
        "X_train = sc.fit_transform(X_train)\n",
        "X_test = sc.transform(X_test)"
      ],
      "metadata": {
        "id": "th4Yqf5MxNvu"
      },
      "execution_count": 171,
      "outputs": []
    },
    {
      "cell_type": "markdown",
      "source": [
        "Training a decision tree classifier"
      ],
      "metadata": {
        "id": "ZDTmghjq11H9"
      }
    },
    {
      "cell_type": "code",
      "source": [
        "dt = DecisionTreeClassifier()\n",
        "dt.fit(X_train, y_train)\n",
        "\n"
      ],
      "metadata": {
        "colab": {
          "base_uri": "https://localhost:8080/",
          "height": 0
        },
        "id": "9mV-ugPQ1x0M",
        "outputId": "2116a4cd-bc8f-4dce-d716-00fb83a0a70f"
      },
      "execution_count": 172,
      "outputs": [
        {
          "output_type": "execute_result",
          "data": {
            "text/plain": [
              "DecisionTreeClassifier()"
            ]
          },
          "metadata": {},
          "execution_count": 172
        }
      ]
    },
    {
      "cell_type": "markdown",
      "source": [
        "Getting the Parameters of the Decision Tree"
      ],
      "metadata": {
        "id": "BM5pTGFb43mY"
      }
    },
    {
      "cell_type": "code",
      "source": [
        "dt.get_params()"
      ],
      "metadata": {
        "colab": {
          "base_uri": "https://localhost:8080/",
          "height": 0
        },
        "id": "sfbXlC2916wx",
        "outputId": "5433b6a2-e079-4aff-9ad2-056ba329a0b6"
      },
      "execution_count": 173,
      "outputs": [
        {
          "output_type": "execute_result",
          "data": {
            "text/plain": [
              "{'ccp_alpha': 0.0,\n",
              " 'class_weight': None,\n",
              " 'criterion': 'gini',\n",
              " 'max_depth': None,\n",
              " 'max_features': None,\n",
              " 'max_leaf_nodes': None,\n",
              " 'min_impurity_decrease': 0.0,\n",
              " 'min_samples_leaf': 1,\n",
              " 'min_samples_split': 2,\n",
              " 'min_weight_fraction_leaf': 0.0,\n",
              " 'random_state': None,\n",
              " 'splitter': 'best'}"
            ]
          },
          "metadata": {},
          "execution_count": 173
        }
      ]
    },
    {
      "cell_type": "markdown",
      "source": [
        "Decision Tree - Making Predictions"
      ],
      "metadata": {
        "id": "254C1WdR4nRz"
      }
    },
    {
      "cell_type": "code",
      "source": [
        "y_pred_dt = dt.predict(X_test)"
      ],
      "metadata": {
        "id": "r18Ixq1d2oZq"
      },
      "execution_count": 174,
      "outputs": []
    },
    {
      "cell_type": "markdown",
      "source": [
        "Decision Tree - Generating Classification Report"
      ],
      "metadata": {
        "id": "kCR2wrZL4jhM"
      }
    },
    {
      "cell_type": "code",
      "source": [
        "#Note - we set what the target names are\n",
        "print(classification_report(y_test, y_pred_dt, target_names = ['positive', 'negative']))"
      ],
      "metadata": {
        "colab": {
          "base_uri": "https://localhost:8080/",
          "height": 0
        },
        "id": "XuY4uWMn2pG5",
        "outputId": "3c4bd055-e351-4761-f1d4-54eca436c3b8"
      },
      "execution_count": 175,
      "outputs": [
        {
          "output_type": "stream",
          "name": "stdout",
          "text": [
            "              precision    recall  f1-score   support\n",
            "\n",
            "    positive       0.64      0.64      0.64     10534\n",
            "    negative       0.64      0.64      0.64     10466\n",
            "\n",
            "    accuracy                           0.64     21000\n",
            "   macro avg       0.64      0.64      0.64     21000\n",
            "weighted avg       0.64      0.64      0.64     21000\n",
            "\n"
          ]
        }
      ]
    },
    {
      "cell_type": "markdown",
      "source": [
        "Training the Random Forest Classifier"
      ],
      "metadata": {
        "id": "oHhaLL-H4gTf"
      }
    },
    {
      "cell_type": "code",
      "source": [
        "rf = RandomForestClassifier(n_estimators=10, criterion='gini',random_state=1)\n",
        "rf.fit(X_train,y_train.values.ravel())\n"
      ],
      "metadata": {
        "colab": {
          "base_uri": "https://localhost:8080/",
          "height": 0
        },
        "id": "v_SwY_Xh2zsg",
        "outputId": "95b6743e-de03-4024-bbac-c96d20e99bb2"
      },
      "execution_count": 177,
      "outputs": [
        {
          "output_type": "execute_result",
          "data": {
            "text/plain": [
              "RandomForestClassifier(n_estimators=10, random_state=1)"
            ]
          },
          "metadata": {},
          "execution_count": 177
        }
      ]
    },
    {
      "cell_type": "markdown",
      "source": [
        "Random Forest - Making Predictions and Generating Classification Report"
      ],
      "metadata": {
        "id": "2tDoVjet4cfl"
      }
    },
    {
      "cell_type": "code",
      "source": [
        "y_pred_rf = rf.predict(X_test)\n",
        "\n",
        "print(classification_report(y_test, y_pred_rf))"
      ],
      "metadata": {
        "colab": {
          "base_uri": "https://localhost:8080/",
          "height": 0
        },
        "id": "BpshjcKi3RWi",
        "outputId": "91d4b096-7fd9-4248-c94a-b28ca0f39dba"
      },
      "execution_count": 178,
      "outputs": [
        {
          "output_type": "stream",
          "name": "stdout",
          "text": [
            "              precision    recall  f1-score   support\n",
            "\n",
            "           0       0.69      0.75      0.72     10534\n",
            "           1       0.72      0.66      0.69     10466\n",
            "\n",
            "    accuracy                           0.70     21000\n",
            "   macro avg       0.71      0.70      0.70     21000\n",
            "weighted avg       0.71      0.70      0.70     21000\n",
            "\n"
          ]
        }
      ]
    },
    {
      "cell_type": "markdown",
      "source": [
        "Can try a logistic regression model on this dataset?"
      ],
      "metadata": {
        "id": "Brjlx2zH5fXl"
      }
    }
  ]
}