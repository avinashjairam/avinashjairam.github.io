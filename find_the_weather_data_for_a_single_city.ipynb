{
  "nbformat": 4,
  "nbformat_minor": 0,
  "metadata": {
    "colab": {
      "name": "find the weather data for a single city.ipynb",
      "provenance": [],
      "authorship_tag": "ABX9TyODbHBoG9xDgplzBlssNioC",
      "include_colab_link": true
    },
    "kernelspec": {
      "name": "python3",
      "display_name": "Python 3"
    },
    "language_info": {
      "name": "python"
    }
  },
  "cells": [
    {
      "cell_type": "markdown",
      "metadata": {
        "id": "view-in-github",
        "colab_type": "text"
      },
      "source": [
        "<a href=\"https://colab.research.google.com/github/avinashjairam/avinashjairam.github.io/blob/master/find_the_weather_data_for_a_single_city.ipynb\" target=\"_parent\"><img src=\"https://colab.research.google.com/assets/colab-badge.svg\" alt=\"Open In Colab\"/></a>"
      ]
    },
    {
      "cell_type": "code",
      "metadata": {
        "id": "0CxEAICeHhI-"
      },
      "source": [
        "#Using the weather API to find the weather data for a single city\n",
        "#import requests and json\n",
        "import requests\n",
        "import json"
      ],
      "execution_count": 14,
      "outputs": []
    },
    {
      "cell_type": "code",
      "metadata": {
        "id": "JpSX-5shHmbE"
      },
      "source": [
        "#API key - Sign up here to get your OWN key - https://home.openweathermap.org/users/sign_up\n",
        "key = ''\n",
        "\n",
        "#Our city of interest\n",
        "city = 'New York'\n",
        "\n",
        "#Url or endpoint to which we are making our request. city and key are the parameters.\n",
        "#Note the use of f-strings in python >= 3.6\n",
        "url = f'http://api.openweathermap.org/data/2.5/weather?q={city}&APPID={key}&units=imperial'\n",
        "\n",
        "#making a requestion to the API using the url and the parameters\n",
        "r = requests.get(url)\n",
        "  "
      ],
      "execution_count": 15,
      "outputs": []
    },
    {
      "cell_type": "code",
      "metadata": {
        "colab": {
          "base_uri": "https://localhost:8080/"
        },
        "id": "4NJNHkQEITVB",
        "outputId": "cd9a7ad1-5c07-4a74-d95f-5fc20f062bfd"
      },
      "source": [
        "#printing the status code just to see if our request was succesful\n",
        "#a 200 status code means that all went well\n",
        "\n",
        "print(r.status_code)"
      ],
      "execution_count": 16,
      "outputs": [
        {
          "output_type": "stream",
          "name": "stdout",
          "text": [
            "200\n"
          ]
        }
      ]
    },
    {
      "cell_type": "code",
      "metadata": {
        "colab": {
          "base_uri": "https://localhost:8080/"
        },
        "id": "-Xx93-QWIae7",
        "outputId": "a7ee12de-945e-41a2-a623-4886a7f8e3a8"
      },
      "source": [
        "#checking if the request was successful, only then will we attempt to process the json code\n",
        "if(r.status_code == 200):\n",
        "  #The API returns data in the json format. To retrieve this, call the .json() method on the request object\n",
        "  data = r.json()\n",
        "\n",
        "  #By default the json() is in a format which can be diffult to read\n",
        "  print(f'Unformatted JSON: {data}')\n",
        "\n",
        "  #Hence, we should convert the json to a string using json.dumps() to format it\n",
        "\n",
        "  #json.dumps() takes 3 parameters, the actual json code (data), a boolean value which sorts the keeys (sort_keys), \n",
        "  #and a value which specifies how much to indent the code by\n",
        "  formatted_json = json.dumps(data, sort_keys=True, indent= 4)\n",
        "\n",
        "  #printing the formatted json. This is much easier to read and understand.\n",
        "\n",
        "  print(f'\\n Formatted JSON {formatted_json}')\n",
        "\n",
        "  #Note: formatted_json is just a string and not actual JSON code. \n",
        "  #Hence, you cannot peform indexing on formatted_json, we still have to use the data object\n",
        "  print(type(formatted_json))\n",
        "\n",
        "\n",
        "  print(f\"{data['name']} temperature is {data['main']['temp']}\")\n",
        "  print(f\"{data['name']} humidity is {data['main']['humidity']}\")\n",
        "  print(f\"{data['name']} weather description is {data['weather'][0]['description']}\")\n",
        "  print()\n",
        "else:\n",
        "    print(\"API request was unsuccessful.\")"
      ],
      "execution_count": 17,
      "outputs": [
        {
          "output_type": "stream",
          "name": "stdout",
          "text": [
            "Unformatted JSON: {'coord': {'lon': -74.006, 'lat': 40.7143}, 'weather': [{'id': 804, 'main': 'Clouds', 'description': 'overcast clouds', 'icon': '04d'}], 'base': 'stations', 'main': {'temp': 53.82, 'feels_like': 50.92, 'temp_min': 49.75, 'temp_max': 56.97, 'pressure': 1019, 'humidity': 43}, 'visibility': 10000, 'wind': {'speed': 1.01, 'deg': 282, 'gust': 1.99}, 'clouds': {'all': 100}, 'dt': 1636318703, 'sys': {'type': 2, 'id': 2039034, 'country': 'US', 'sunrise': 1636284822, 'sunset': 1636321547}, 'timezone': -18000, 'id': 5128581, 'name': 'New York', 'cod': 200}\n",
            "\n",
            " Formatted JSON {\n",
            "    \"base\": \"stations\",\n",
            "    \"clouds\": {\n",
            "        \"all\": 100\n",
            "    },\n",
            "    \"cod\": 200,\n",
            "    \"coord\": {\n",
            "        \"lat\": 40.7143,\n",
            "        \"lon\": -74.006\n",
            "    },\n",
            "    \"dt\": 1636318703,\n",
            "    \"id\": 5128581,\n",
            "    \"main\": {\n",
            "        \"feels_like\": 50.92,\n",
            "        \"humidity\": 43,\n",
            "        \"pressure\": 1019,\n",
            "        \"temp\": 53.82,\n",
            "        \"temp_max\": 56.97,\n",
            "        \"temp_min\": 49.75\n",
            "    },\n",
            "    \"name\": \"New York\",\n",
            "    \"sys\": {\n",
            "        \"country\": \"US\",\n",
            "        \"id\": 2039034,\n",
            "        \"sunrise\": 1636284822,\n",
            "        \"sunset\": 1636321547,\n",
            "        \"type\": 2\n",
            "    },\n",
            "    \"timezone\": -18000,\n",
            "    \"visibility\": 10000,\n",
            "    \"weather\": [\n",
            "        {\n",
            "            \"description\": \"overcast clouds\",\n",
            "            \"icon\": \"04d\",\n",
            "            \"id\": 804,\n",
            "            \"main\": \"Clouds\"\n",
            "        }\n",
            "    ],\n",
            "    \"wind\": {\n",
            "        \"deg\": 282,\n",
            "        \"gust\": 1.99,\n",
            "        \"speed\": 1.01\n",
            "    }\n",
            "}\n",
            "<class 'str'>\n",
            "New York temperature is 53.82\n",
            "New York humidity is 43\n",
            "New York weather description is overcast clouds\n",
            "\n"
          ]
        }
      ]
    }
  ]
}