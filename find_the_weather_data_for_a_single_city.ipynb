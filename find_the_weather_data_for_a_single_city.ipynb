{
  "nbformat": 4,
  "nbformat_minor": 0,
  "metadata": {
    "colab": {
      "name": "find the weather data for a single city.ipynb",
      "provenance": [],
      "authorship_tag": "ABX9TyOJkOPbc0zYBPe8UEVMfoRj",
      "include_colab_link": true
    },
    "kernelspec": {
      "name": "python3",
      "display_name": "Python 3"
    },
    "language_info": {
      "name": "python"
    }
  },
  "cells": [
    {
      "cell_type": "markdown",
      "metadata": {
        "id": "view-in-github",
        "colab_type": "text"
      },
      "source": [
        "<a href=\"https://colab.research.google.com/github/avinashjairam/avinashjairam.github.io/blob/master/find_the_weather_data_for_a_single_city.ipynb\" target=\"_parent\"><img src=\"https://colab.research.google.com/assets/colab-badge.svg\" alt=\"Open In Colab\"/></a>"
      ]
    },
    {
      "cell_type": "code",
      "metadata": {
        "id": "0CxEAICeHhI-"
      },
      "source": [
        "#Using the weather API to find the weather data for a single city\n",
        "#import requests and json\n",
        "import requests\n",
        "import json"
      ],
      "execution_count": 4,
      "outputs": []
    },
    {
      "cell_type": "code",
      "metadata": {
        "id": "JpSX-5shHmbE"
      },
      "source": [
        "#API key - Sign up here to get your OWN key - https://home.openweathermap.org/users/sign_up\n",
        "key = 'INSERT YOUR OWN API KEY HERE'\n",
        "\n",
        "#Our city of interest\n",
        "city = 'New York'\n",
        "\n",
        "#Url or endpoint to which we are making our request. city and key are the parameters.\n",
        "#Note the use of f-strings in python >= 3.6\n",
        "url = f'http://api.openweathermap.org/data/2.5/weather?q={city}&APPID={key}&units=imperial'\n",
        "\n",
        "#making a requestion to the API using the url and the parameters\n",
        "r = requests.get(url)\n",
        "  "
      ],
      "execution_count": 5,
      "outputs": []
    },
    {
      "cell_type": "code",
      "metadata": {
        "colab": {
          "base_uri": "https://localhost:8080/"
        },
        "id": "4NJNHkQEITVB",
        "outputId": "fc305483-6e8b-420d-f9fb-529ca0020714"
      },
      "source": [
        "#printing the status code just to see if our request was succesful\n",
        "#a 200 status code means that all went well\n",
        "\n",
        "print(r.status_code)"
      ],
      "execution_count": 6,
      "outputs": [
        {
          "output_type": "stream",
          "name": "stdout",
          "text": [
            "200\n"
          ]
        }
      ]
    },
    {
      "cell_type": "code",
      "metadata": {
        "colab": {
          "base_uri": "https://localhost:8080/"
        },
        "id": "-Xx93-QWIae7",
        "outputId": "a10b6ae2-254a-46e0-fa99-2b66e72b133d"
      },
      "source": [
        "#The API returns data in the json format. To retrieve this, call the .json() method on the request object\n",
        "data = r.json()\n",
        "\n",
        "#By default the json() is in a format which can be diffult to read\n",
        "print(data)"
      ],
      "execution_count": 7,
      "outputs": [
        {
          "output_type": "stream",
          "name": "stdout",
          "text": [
            "{'coord': {'lon': -74.006, 'lat': 40.7143}, 'weather': [{'id': 800, 'main': 'Clear', 'description': 'clear sky', 'icon': '01d'}], 'base': 'stations', 'main': {'temp': 54.43, 'feels_like': 51.55, 'temp_min': 50.49, 'temp_max': 57.69, 'pressure': 1020, 'humidity': 42}, 'visibility': 10000, 'wind': {'speed': 0, 'deg': 0}, 'clouds': {'all': 1}, 'dt': 1636317388, 'sys': {'type': 2, 'id': 2039034, 'country': 'US', 'sunrise': 1636284822, 'sunset': 1636321547}, 'timezone': -18000, 'id': 5128581, 'name': 'New York', 'cod': 200}\n"
          ]
        }
      ]
    },
    {
      "cell_type": "code",
      "metadata": {
        "colab": {
          "base_uri": "https://localhost:8080/"
        },
        "id": "4d3xCVZvIxQD",
        "outputId": "b8e5e0ab-b096-4425-b5bb-a833e0d3c416"
      },
      "source": [
        "#Hence, we should convert the json to a string using json.dumps() to format it\n",
        "\n",
        "#json.dumps() takes 3 parameters, the actual json code (data), a boolean value which sorts the keeys (sort_keys), \n",
        "#and a value which specifies how much to indent the code by\n",
        "formatted_json = json.dumps(data, sort_keys=True, indent= 4)\n",
        "\n",
        "#printing the formatted json. This is much easier to read and understand.\n",
        "\n",
        "print(formatted_json)"
      ],
      "execution_count": 8,
      "outputs": [
        {
          "output_type": "stream",
          "name": "stdout",
          "text": [
            "{\n",
            "    \"base\": \"stations\",\n",
            "    \"clouds\": {\n",
            "        \"all\": 1\n",
            "    },\n",
            "    \"cod\": 200,\n",
            "    \"coord\": {\n",
            "        \"lat\": 40.7143,\n",
            "        \"lon\": -74.006\n",
            "    },\n",
            "    \"dt\": 1636317388,\n",
            "    \"id\": 5128581,\n",
            "    \"main\": {\n",
            "        \"feels_like\": 51.55,\n",
            "        \"humidity\": 42,\n",
            "        \"pressure\": 1020,\n",
            "        \"temp\": 54.43,\n",
            "        \"temp_max\": 57.69,\n",
            "        \"temp_min\": 50.49\n",
            "    },\n",
            "    \"name\": \"New York\",\n",
            "    \"sys\": {\n",
            "        \"country\": \"US\",\n",
            "        \"id\": 2039034,\n",
            "        \"sunrise\": 1636284822,\n",
            "        \"sunset\": 1636321547,\n",
            "        \"type\": 2\n",
            "    },\n",
            "    \"timezone\": -18000,\n",
            "    \"visibility\": 10000,\n",
            "    \"weather\": [\n",
            "        {\n",
            "            \"description\": \"clear sky\",\n",
            "            \"icon\": \"01d\",\n",
            "            \"id\": 800,\n",
            "            \"main\": \"Clear\"\n",
            "        }\n",
            "    ],\n",
            "    \"wind\": {\n",
            "        \"deg\": 0,\n",
            "        \"speed\": 0\n",
            "    }\n",
            "}\n"
          ]
        }
      ]
    },
    {
      "cell_type": "code",
      "metadata": {
        "colab": {
          "base_uri": "https://localhost:8080/"
        },
        "id": "IL_Me2cFJNpF",
        "outputId": "48199883-3601-42f7-fb6d-436eb8b5bb04"
      },
      "source": [
        "#Note: formatted_json is just a string and not actual JSON code. \n",
        "#Hence, you cannot peform indexing on formatted_json, we still have to use the data object\n",
        "print(type(formatted_json))"
      ],
      "execution_count": 9,
      "outputs": [
        {
          "output_type": "stream",
          "name": "stdout",
          "text": [
            "<class 'str'>\n"
          ]
        }
      ]
    },
    {
      "cell_type": "code",
      "metadata": {
        "colab": {
          "base_uri": "https://localhost:8080/"
        },
        "id": "WyAmWa26Jg0q",
        "outputId": "6724cefd-6a93-4e30-9a8f-93ee825b852d"
      },
      "source": [
        "#Now..let's extract some relevant weather data from the JSON code\n",
        "\n",
        "print(f\"{data['name']} temperature is {data['main']['temp']}\")\n",
        "print(f\"{data['name']} humidity is {data['main']['humidity']}\")\n",
        "print(f\"{data['name']} weather description is {data['weather'][0]['description']}\")"
      ],
      "execution_count": 10,
      "outputs": [
        {
          "output_type": "stream",
          "name": "stdout",
          "text": [
            "New York temperature is 54.43\n",
            "New York humidity is 42\n",
            "New York weather description is clear sky\n"
          ]
        }
      ]
    }
  ]
}