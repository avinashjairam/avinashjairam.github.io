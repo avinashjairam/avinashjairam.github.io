{
  "nbformat": 4,
  "nbformat_minor": 0,
  "metadata": {
    "colab": {
      "name": "2-27.ipynb",
      "provenance": [],
      "authorship_tag": "ABX9TyOxyNentVdWNShJ5goNRe+p",
      "include_colab_link": true
    },
    "kernelspec": {
      "name": "python3",
      "display_name": "Python 3"
    }
  },
  "cells": [
    {
      "cell_type": "markdown",
      "metadata": {
        "id": "view-in-github",
        "colab_type": "text"
      },
      "source": [
        "<a href=\"https://colab.research.google.com/github/avinashjairam/avinashjairam.github.io/blob/master/2_27.ipynb\" target=\"_parent\"><img src=\"https://colab.research.google.com/assets/colab-badge.svg\" alt=\"Open In Colab\"/></a>"
      ]
    },
    {
      "cell_type": "code",
      "metadata": {
        "id": "F5nxE5IzTMyH"
      },
      "source": [
        "import requests\r\n",
        "from bs4 import BeautifulSoup"
      ],
      "execution_count": null,
      "outputs": []
    },
    {
      "cell_type": "code",
      "metadata": {
        "id": "1ntM9Kemf5IX"
      },
      "source": [
        "url = \"https://avinashjairam.github.io/tableExample1.html\"\r\n",
        "page = requests.get(url)"
      ],
      "execution_count": null,
      "outputs": []
    },
    {
      "cell_type": "code",
      "metadata": {
        "colab": {
          "base_uri": "https://localhost:8080/"
        },
        "id": "9S1Wy1GagRc1",
        "outputId": "a8fdfda4-0d19-4054-b72d-071485de406a"
      },
      "source": [
        "page.content"
      ],
      "execution_count": null,
      "outputs": [
        {
          "output_type": "execute_result",
          "data": {
            "text/plain": [
              "b\"<html>\\n<head>\\n\\n<title>Table Scraping: Ex. #1</title>\\n\\n<style>\\ntable, th, td {\\n  border: 1px solid black;\\n  border-collapse: collapse;\\n}\\nth, td {\\n  padding: 5px;\\n  text-align: left;\\n}\\n</style>\\n</head>\\n\\n\\n<body>\\n\\n<h2>Monthly Savings</h2>\\n<p>Let's Track Our Savings</p>\\n\\n<table>\\n  <caption>Monthly Savings</caption>\\n  <tr>\\n    <th>Month</th>\\n    <th>Savings</th>\\n  </tr>\\n  <tr>\\n    <td>January</td>\\n    <td>$100</td>\\n  </tr>\\n  <tr>\\n    <td>February</td>\\n    <td>$50</td>\\n  </tr>\\n\\n <tr>\\n    <td>March</td>\\n    <td>$340</td>\\n  </tr>\\n  <tr>\\n    <td>April</td>\\n    <td>$50</td>\\n  </tr>\\n\\n <tr>\\n    <td>May</td>\\n    <td>$10</td>\\n  </tr>\\n  <tr>\\n    <td>June</td>\\n    <td>$5</td>\\n  </tr>\\n\\n <tr>\\n    <td>July</td>\\n    <td>$210</td>\\n  </tr>\\n  <tr>\\n    <td>August</td>\\n    <td>$54</td>\\n  </tr>\\n\\n <tr>\\n    <td>September</td>\\n    <td>$20</td>\\n  </tr>\\n\\n  <tr>\\n    <td>October</td>\\n    <td>$0</td>\\n  </tr>\\n\\n  <tr>\\n    <td>November</td>\\n    <td>$400</td>\\n  </tr>\\n\\n  <tr>\\n    <td>December</td>\\n    <td>$2</td>\\n  </tr>\\n\\n</table>\\n\\n\\n</body>\\n\\n\\n</html>\""
            ]
          },
          "metadata": {
            "tags": []
          },
          "execution_count": 19
        }
      ]
    },
    {
      "cell_type": "code",
      "metadata": {
        "colab": {
          "base_uri": "https://localhost:8080/"
        },
        "id": "H0Qx9_NpgSdi",
        "outputId": "c8953d5a-4f1f-4918-c719-9c06732175a0"
      },
      "source": [
        "soup = BeautifulSoup(page.content, \"html.parser\")\r\n",
        "\r\n",
        "print(soup.prettify())"
      ],
      "execution_count": null,
      "outputs": [
        {
          "output_type": "stream",
          "text": [
            "<html>\n",
            " <head>\n",
            "  <title>\n",
            "   Table Scraping: Ex. #1\n",
            "  </title>\n",
            "  <style>\n",
            "   table, th, td {\n",
            "  border: 1px solid black;\n",
            "  border-collapse: collapse;\n",
            "}\n",
            "th, td {\n",
            "  padding: 5px;\n",
            "  text-align: left;\n",
            "}\n",
            "  </style>\n",
            " </head>\n",
            " <body>\n",
            "  <h2>\n",
            "   Monthly Savings\n",
            "  </h2>\n",
            "  <p>\n",
            "   Let's Track Our Savings\n",
            "  </p>\n",
            "  <table>\n",
            "   <caption>\n",
            "    Monthly Savings\n",
            "   </caption>\n",
            "   <tr>\n",
            "    <th>\n",
            "     Month\n",
            "    </th>\n",
            "    <th>\n",
            "     Savings\n",
            "    </th>\n",
            "   </tr>\n",
            "   <tr>\n",
            "    <td>\n",
            "     January\n",
            "    </td>\n",
            "    <td>\n",
            "     $100\n",
            "    </td>\n",
            "   </tr>\n",
            "   <tr>\n",
            "    <td>\n",
            "     February\n",
            "    </td>\n",
            "    <td>\n",
            "     $50\n",
            "    </td>\n",
            "   </tr>\n",
            "   <tr>\n",
            "    <td>\n",
            "     March\n",
            "    </td>\n",
            "    <td>\n",
            "     $340\n",
            "    </td>\n",
            "   </tr>\n",
            "   <tr>\n",
            "    <td>\n",
            "     April\n",
            "    </td>\n",
            "    <td>\n",
            "     $50\n",
            "    </td>\n",
            "   </tr>\n",
            "   <tr>\n",
            "    <td>\n",
            "     May\n",
            "    </td>\n",
            "    <td>\n",
            "     $10\n",
            "    </td>\n",
            "   </tr>\n",
            "   <tr>\n",
            "    <td>\n",
            "     June\n",
            "    </td>\n",
            "    <td>\n",
            "     $5\n",
            "    </td>\n",
            "   </tr>\n",
            "   <tr>\n",
            "    <td>\n",
            "     July\n",
            "    </td>\n",
            "    <td>\n",
            "     $210\n",
            "    </td>\n",
            "   </tr>\n",
            "   <tr>\n",
            "    <td>\n",
            "     August\n",
            "    </td>\n",
            "    <td>\n",
            "     $54\n",
            "    </td>\n",
            "   </tr>\n",
            "   <tr>\n",
            "    <td>\n",
            "     September\n",
            "    </td>\n",
            "    <td>\n",
            "     $20\n",
            "    </td>\n",
            "   </tr>\n",
            "   <tr>\n",
            "    <td>\n",
            "     October\n",
            "    </td>\n",
            "    <td>\n",
            "     $0\n",
            "    </td>\n",
            "   </tr>\n",
            "   <tr>\n",
            "    <td>\n",
            "     November\n",
            "    </td>\n",
            "    <td>\n",
            "     $400\n",
            "    </td>\n",
            "   </tr>\n",
            "   <tr>\n",
            "    <td>\n",
            "     December\n",
            "    </td>\n",
            "    <td>\n",
            "     $2\n",
            "    </td>\n",
            "   </tr>\n",
            "  </table>\n",
            " </body>\n",
            "</html>\n"
          ],
          "name": "stdout"
        }
      ]
    },
    {
      "cell_type": "code",
      "metadata": {
        "colab": {
          "base_uri": "https://localhost:8080/"
        },
        "id": "DM5xRYYrgkEl",
        "outputId": "1cff765e-98df-4680-a62d-7fd83f62e215"
      },
      "source": [
        "table = soup.find('table')\r\n",
        "\r\n",
        "print(table)"
      ],
      "execution_count": null,
      "outputs": [
        {
          "output_type": "stream",
          "text": [
            "<table>\n",
            "<caption>Monthly Savings</caption>\n",
            "<tr>\n",
            "<th>Month</th>\n",
            "<th>Savings</th>\n",
            "</tr>\n",
            "<tr>\n",
            "<td>January</td>\n",
            "<td>$100</td>\n",
            "</tr>\n",
            "<tr>\n",
            "<td>February</td>\n",
            "<td>$50</td>\n",
            "</tr>\n",
            "<tr>\n",
            "<td>March</td>\n",
            "<td>$340</td>\n",
            "</tr>\n",
            "<tr>\n",
            "<td>April</td>\n",
            "<td>$50</td>\n",
            "</tr>\n",
            "<tr>\n",
            "<td>May</td>\n",
            "<td>$10</td>\n",
            "</tr>\n",
            "<tr>\n",
            "<td>June</td>\n",
            "<td>$5</td>\n",
            "</tr>\n",
            "<tr>\n",
            "<td>July</td>\n",
            "<td>$210</td>\n",
            "</tr>\n",
            "<tr>\n",
            "<td>August</td>\n",
            "<td>$54</td>\n",
            "</tr>\n",
            "<tr>\n",
            "<td>September</td>\n",
            "<td>$20</td>\n",
            "</tr>\n",
            "<tr>\n",
            "<td>October</td>\n",
            "<td>$0</td>\n",
            "</tr>\n",
            "<tr>\n",
            "<td>November</td>\n",
            "<td>$400</td>\n",
            "</tr>\n",
            "<tr>\n",
            "<td>December</td>\n",
            "<td>$2</td>\n",
            "</tr>\n",
            "</table>\n"
          ],
          "name": "stdout"
        }
      ]
    },
    {
      "cell_type": "code",
      "metadata": {
        "colab": {
          "base_uri": "https://localhost:8080/"
        },
        "id": "xtoKzj__g0x2",
        "outputId": "81dbcfa8-5bd2-471a-eedf-3a834340964b"
      },
      "source": [
        "print(table.findAll('tr'))"
      ],
      "execution_count": null,
      "outputs": [
        {
          "output_type": "stream",
          "text": [
            "[<tr>\n",
            "<th>Month</th>\n",
            "<th>Savings</th>\n",
            "</tr>, <tr>\n",
            "<td>January</td>\n",
            "<td>$100</td>\n",
            "</tr>, <tr>\n",
            "<td>February</td>\n",
            "<td>$50</td>\n",
            "</tr>, <tr>\n",
            "<td>March</td>\n",
            "<td>$340</td>\n",
            "</tr>, <tr>\n",
            "<td>April</td>\n",
            "<td>$50</td>\n",
            "</tr>, <tr>\n",
            "<td>May</td>\n",
            "<td>$10</td>\n",
            "</tr>, <tr>\n",
            "<td>June</td>\n",
            "<td>$5</td>\n",
            "</tr>, <tr>\n",
            "<td>July</td>\n",
            "<td>$210</td>\n",
            "</tr>, <tr>\n",
            "<td>August</td>\n",
            "<td>$54</td>\n",
            "</tr>, <tr>\n",
            "<td>September</td>\n",
            "<td>$20</td>\n",
            "</tr>, <tr>\n",
            "<td>October</td>\n",
            "<td>$0</td>\n",
            "</tr>, <tr>\n",
            "<td>November</td>\n",
            "<td>$400</td>\n",
            "</tr>, <tr>\n",
            "<td>December</td>\n",
            "<td>$2</td>\n",
            "</tr>]\n"
          ],
          "name": "stdout"
        }
      ]
    },
    {
      "cell_type": "code",
      "metadata": {
        "id": "ghxXxfXYhLVv",
        "colab": {
          "base_uri": "https://localhost:8080/"
        },
        "outputId": "07bbc364-0688-43d3-ba7d-c92cc7f9797f"
      },
      "source": [
        "month = []\r\n",
        "savings = []\r\n",
        "\r\n",
        "rows = table.findAll('tr')\r\n",
        "\r\n",
        "for row in rows:\r\n",
        "  cells = row.findAll('td')\r\n",
        "  if len(cells) == 2:\r\n",
        "    month.append(cells[0].find(text=True))\r\n",
        "    savings.append(cells[1].find(text=True))\r\n",
        "\r\n",
        "print(month)\r\n",
        "print(savings)"
      ],
      "execution_count": null,
      "outputs": [
        {
          "output_type": "stream",
          "text": [
            "['January', 'February', 'March', 'April', 'May', 'June', 'July', 'August', 'September', 'October', 'November', 'December']\n",
            "['$100', '$50', '$340', '$50', '$10', '$5', '$210', '$54', '$20', '$0', '$400', '$2']\n"
          ],
          "name": "stdout"
        }
      ]
    },
    {
      "cell_type": "code",
      "metadata": {
        "colab": {
          "base_uri": "https://localhost:8080/"
        },
        "id": "m07MNd7Ptgh-",
        "outputId": "dc83096c-12c7-467b-f933-6d2ec47395a2"
      },
      "source": [
        "#Removing $ from the savings values\r\n",
        "for x in range(0, 12):\r\n",
        "  savings[x] = savings[x].strip('$')\r\n",
        "  \r\n",
        "\r\n",
        "\r\n",
        "print(savings)\r\n"
      ],
      "execution_count": null,
      "outputs": [
        {
          "output_type": "stream",
          "text": [
            "['100', '50', '340', '50', '10', '5', '210', '54', '20', '0', '400', '2']\n"
          ],
          "name": "stdout"
        }
      ]
    },
    {
      "cell_type": "code",
      "metadata": {
        "colab": {
          "base_uri": "https://localhost:8080/",
          "height": 421
        },
        "id": "4GGiG2cJnSaP",
        "outputId": "ae4cd8ba-af76-4133-d1b9-90f2da6f8a8d"
      },
      "source": [
        "import pandas as pd \r\n",
        "\r\n",
        "#creating a dataframe\r\n",
        "\r\n",
        "df = pd.DataFrame()\r\n",
        "\r\n",
        "df['month'] = month\r\n",
        "df['savings'] = savings\r\n",
        "\r\n",
        "df"
      ],
      "execution_count": null,
      "outputs": [
        {
          "output_type": "execute_result",
          "data": {
            "text/html": [
              "<div>\n",
              "<style scoped>\n",
              "    .dataframe tbody tr th:only-of-type {\n",
              "        vertical-align: middle;\n",
              "    }\n",
              "\n",
              "    .dataframe tbody tr th {\n",
              "        vertical-align: top;\n",
              "    }\n",
              "\n",
              "    .dataframe thead th {\n",
              "        text-align: right;\n",
              "    }\n",
              "</style>\n",
              "<table border=\"1\" class=\"dataframe\">\n",
              "  <thead>\n",
              "    <tr style=\"text-align: right;\">\n",
              "      <th></th>\n",
              "      <th>month</th>\n",
              "      <th>savings</th>\n",
              "    </tr>\n",
              "  </thead>\n",
              "  <tbody>\n",
              "    <tr>\n",
              "      <th>0</th>\n",
              "      <td>January</td>\n",
              "      <td>100</td>\n",
              "    </tr>\n",
              "    <tr>\n",
              "      <th>1</th>\n",
              "      <td>February</td>\n",
              "      <td>50</td>\n",
              "    </tr>\n",
              "    <tr>\n",
              "      <th>2</th>\n",
              "      <td>March</td>\n",
              "      <td>340</td>\n",
              "    </tr>\n",
              "    <tr>\n",
              "      <th>3</th>\n",
              "      <td>April</td>\n",
              "      <td>50</td>\n",
              "    </tr>\n",
              "    <tr>\n",
              "      <th>4</th>\n",
              "      <td>May</td>\n",
              "      <td>10</td>\n",
              "    </tr>\n",
              "    <tr>\n",
              "      <th>5</th>\n",
              "      <td>June</td>\n",
              "      <td>5</td>\n",
              "    </tr>\n",
              "    <tr>\n",
              "      <th>6</th>\n",
              "      <td>July</td>\n",
              "      <td>210</td>\n",
              "    </tr>\n",
              "    <tr>\n",
              "      <th>7</th>\n",
              "      <td>August</td>\n",
              "      <td>54</td>\n",
              "    </tr>\n",
              "    <tr>\n",
              "      <th>8</th>\n",
              "      <td>September</td>\n",
              "      <td>20</td>\n",
              "    </tr>\n",
              "    <tr>\n",
              "      <th>9</th>\n",
              "      <td>October</td>\n",
              "      <td>0</td>\n",
              "    </tr>\n",
              "    <tr>\n",
              "      <th>10</th>\n",
              "      <td>November</td>\n",
              "      <td>400</td>\n",
              "    </tr>\n",
              "    <tr>\n",
              "      <th>11</th>\n",
              "      <td>December</td>\n",
              "      <td>2</td>\n",
              "    </tr>\n",
              "  </tbody>\n",
              "</table>\n",
              "</div>"
            ],
            "text/plain": [
              "        month savings\n",
              "0     January     100\n",
              "1    February      50\n",
              "2       March     340\n",
              "3       April      50\n",
              "4         May      10\n",
              "5        June       5\n",
              "6        July     210\n",
              "7      August      54\n",
              "8   September      20\n",
              "9     October       0\n",
              "10   November     400\n",
              "11   December       2"
            ]
          },
          "metadata": {
            "tags": []
          },
          "execution_count": 25
        }
      ]
    },
    {
      "cell_type": "code",
      "metadata": {
        "id": "KG3wwcMrry_s"
      },
      "source": [
        "df.to_csv('Savings Table.csv')"
      ],
      "execution_count": null,
      "outputs": []
    },
    {
      "cell_type": "code",
      "metadata": {
        "id": "TFmEevBpsopT"
      },
      "source": [
        ""
      ],
      "execution_count": null,
      "outputs": []
    }
  ]
}