{
  "nbformat": 4,
  "nbformat_minor": 0,
  "metadata": {
    "colab": {
      "name": "2-20 .ipynb",
      "provenance": [],
      "authorship_tag": "ABX9TyP8eR3CrxbcJS9KcZ35X4/5",
      "include_colab_link": true
    },
    "kernelspec": {
      "name": "python3",
      "display_name": "Python 3"
    }
  },
  "cells": [
    {
      "cell_type": "markdown",
      "metadata": {
        "id": "view-in-github",
        "colab_type": "text"
      },
      "source": [
        "<a href=\"https://colab.research.google.com/github/avinashjairam/avinashjairam.github.io/blob/master/2_20_.ipynb\" target=\"_parent\"><img src=\"https://colab.research.google.com/assets/colab-badge.svg\" alt=\"Open In Colab\"/></a>"
      ]
    },
    {
      "cell_type": "code",
      "metadata": {
        "id": "lz68TLmdIWp7"
      },
      "source": [
        "import requests\r\n",
        "from bs4 import BeautifulSoup"
      ],
      "execution_count": 4,
      "outputs": []
    },
    {
      "cell_type": "code",
      "metadata": {
        "id": "FBOkrkDbxTKh"
      },
      "source": [
        "URL = 'https://avinashjairam.github.io/example1.html'\r\n",
        "page = requests.get(URL)\r\n"
      ],
      "execution_count": 5,
      "outputs": []
    },
    {
      "cell_type": "code",
      "metadata": {
        "colab": {
          "base_uri": "https://localhost:8080/"
        },
        "id": "Y4_jFjDgxlVF",
        "outputId": "00e6eb89-4402-4293-d55f-fb0b3b95a6d0"
      },
      "source": [
        "page.content"
      ],
      "execution_count": 8,
      "outputs": [
        {
          "output_type": "execute_result",
          "data": {
            "text/plain": [
              "b'<!DOCTYPE html>\\n<html>\\n\\t<head>\\n   \\t\\t<title>Welcome to CIS 3120</title>\\n\\t</head>\\n\\n\\t<body>\\n\\t\\t<h1> Welcome to CIS 3120!</h1>\\n   \\t\\t<p>Here we learn programming for analytics!</p>\\n\\t</body>\\n</html>'"
            ]
          },
          "metadata": {
            "tags": []
          },
          "execution_count": 8
        }
      ]
    },
    {
      "cell_type": "code",
      "metadata": {
        "id": "ToMvFFZaxl5V"
      },
      "source": [
        "soup = BeautifulSoup(page.content, 'html.parser')"
      ],
      "execution_count": 9,
      "outputs": []
    },
    {
      "cell_type": "code",
      "metadata": {
        "colab": {
          "base_uri": "https://localhost:8080/"
        },
        "id": "_jIcRT4lygml",
        "outputId": "fd8fe470-c7ab-4e27-b38e-a1bfd3998477"
      },
      "source": [
        "print(soup.prettify())"
      ],
      "execution_count": 10,
      "outputs": [
        {
          "output_type": "stream",
          "text": [
            "<!DOCTYPE html>\n",
            "<html>\n",
            " <head>\n",
            "  <title>\n",
            "   Welcome to CIS 3120\n",
            "  </title>\n",
            " </head>\n",
            " <body>\n",
            "  <h1>\n",
            "   Welcome to CIS 3120!\n",
            "  </h1>\n",
            "  <p>\n",
            "   Here we learn programming for analytics!\n",
            "  </p>\n",
            " </body>\n",
            "</html>\n"
          ],
          "name": "stdout"
        }
      ]
    },
    {
      "cell_type": "code",
      "metadata": {
        "id": "_GB-k7oSyka8"
      },
      "source": [
        "para_tags = soup.find_all('p')"
      ],
      "execution_count": 16,
      "outputs": []
    },
    {
      "cell_type": "code",
      "metadata": {
        "colab": {
          "base_uri": "https://localhost:8080/"
        },
        "id": "TWrQm86czhi0",
        "outputId": "e9ed81c6-1ba2-461b-82ea-710b8cedcc58"
      },
      "source": [
        "print(para_tags)"
      ],
      "execution_count": 18,
      "outputs": [
        {
          "output_type": "stream",
          "text": [
            "[<h1> Welcome to CIS 3120!</h1>]\n"
          ],
          "name": "stdout"
        }
      ]
    },
    {
      "cell_type": "code",
      "metadata": {
        "colab": {
          "base_uri": "https://localhost:8080/",
          "height": 35
        },
        "id": "cjOeTTMQzjQF",
        "outputId": "a76f90f5-a6d2-4e95-d10d-09f0d50b4c90"
      },
      "source": [
        "para_tags[0].get_text()"
      ],
      "execution_count": 19,
      "outputs": [
        {
          "output_type": "execute_result",
          "data": {
            "application/vnd.google.colaboratory.intrinsic+json": {
              "type": "string"
            },
            "text/plain": [
              "' Welcome to CIS 3120!'"
            ]
          },
          "metadata": {
            "tags": []
          },
          "execution_count": 19
        }
      ]
    },
    {
      "cell_type": "code",
      "metadata": {
        "id": "2uQtfTerzvRh"
      },
      "source": [
        ""
      ],
      "execution_count": null,
      "outputs": []
    }
  ]
}