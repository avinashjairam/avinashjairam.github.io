{
  "nbformat": 4,
  "nbformat_minor": 0,
  "metadata": {
    "colab": {
      "name": "3-6 (basic numpy tutorials).ipynb",
      "provenance": [],
      "authorship_tag": "ABX9TyM2nlanY/hZarWlElPk/fPB",
      "include_colab_link": true
    },
    "kernelspec": {
      "name": "python3",
      "display_name": "Python 3"
    }
  },
  "cells": [
    {
      "cell_type": "markdown",
      "metadata": {
        "id": "view-in-github",
        "colab_type": "text"
      },
      "source": [
        "<a href=\"https://colab.research.google.com/github/avinashjairam/avinashjairam.github.io/blob/master/3_6_(basic_numpy_tutorials).ipynb\" target=\"_parent\"><img src=\"https://colab.research.google.com/assets/colab-badge.svg\" alt=\"Open In Colab\"/></a>"
      ]
    },
    {
      "cell_type": "code",
      "metadata": {
        "id": "wPMN2hTDucX5"
      },
      "source": [
        "import numpy as np"
      ],
      "execution_count": 2,
      "outputs": []
    },
    {
      "cell_type": "code",
      "metadata": {
        "colab": {
          "base_uri": "https://localhost:8080/"
        },
        "id": "qJuac8H5vDqy",
        "outputId": "d81f17cb-0415-4cc8-d690-df3c9f3d8fe1"
      },
      "source": [
        "#create a numpy array from a list of lists\r\n",
        "\r\n",
        "arr = np.array([[1 , 2, 3], [4, 5, 6], [7, 8, 9]])\r\n",
        "\r\n",
        "#We can access elements of the array by indexing\r\n",
        "print(arr[2])"
      ],
      "execution_count": 6,
      "outputs": [
        {
          "output_type": "stream",
          "text": [
            "[7 8 9]\n"
          ],
          "name": "stdout"
        }
      ]
    },
    {
      "cell_type": "code",
      "metadata": {
        "colab": {
          "base_uri": "https://localhost:8080/"
        },
        "id": "iO3AWObVvKLU",
        "outputId": "7c742fa0-c5dd-451b-aa2f-18286723a6f9"
      },
      "source": [
        "#We can create a numpy array of zeros\r\n",
        "#Choose your own values for num_rows, num_cols\r\n",
        "\r\n",
        "arr2 = np.zeros([3, 4], dtype = int)\r\n",
        "\r\n",
        "print(arr2)"
      ],
      "execution_count": 7,
      "outputs": [
        {
          "output_type": "stream",
          "text": [
            "[[0 0 0 0]\n",
            " [0 0 0 0]\n",
            " [0 0 0 0]]\n"
          ],
          "name": "stdout"
        }
      ]
    },
    {
      "cell_type": "code",
      "metadata": {
        "colab": {
          "base_uri": "https://localhost:8080/"
        },
        "id": "aAWzJAZ9v3cp",
        "outputId": "a71ac6c9-d014-4477-85e4-1e1354cda8f1"
      },
      "source": [
        "#We can create a numpy array of ones\r\n",
        "#Choose your own values for num_rows, num_cols\r\n",
        "\r\n",
        "arr3 = np.ones([5, 10], dtype = int)\r\n",
        "\r\n",
        "print(arr3)"
      ],
      "execution_count": 8,
      "outputs": [
        {
          "output_type": "stream",
          "text": [
            "[[1 1 1 1 1 1 1 1 1 1]\n",
            " [1 1 1 1 1 1 1 1 1 1]\n",
            " [1 1 1 1 1 1 1 1 1 1]\n",
            " [1 1 1 1 1 1 1 1 1 1]\n",
            " [1 1 1 1 1 1 1 1 1 1]]\n"
          ],
          "name": "stdout"
        }
      ]
    },
    {
      "cell_type": "code",
      "metadata": {
        "colab": {
          "base_uri": "https://localhost:8080/"
        },
        "id": "6Owsbk-AwI7e",
        "outputId": "ee6be5b9-4154-4a35-e85d-3f7fa724dc76"
      },
      "source": [
        "#We can create a numpy array of random values\r\n",
        "\r\n",
        "#Choose your own values for num_rows, num_cols\r\n",
        "#the matrix will have random values between 0 and 10\r\n",
        "\r\n",
        "arr4 = np.random.randint(0,10, size = (5, 5))\r\n",
        "\r\n",
        "print(arr4)\r\n"
      ],
      "execution_count": 15,
      "outputs": [
        {
          "output_type": "stream",
          "text": [
            "[[2 2 2 2 3]\n",
            " [1 3 8 7 3]\n",
            " [8 4 7 3 4]\n",
            " [3 0 8 8 2]\n",
            " [9 0 6 2 9]]\n"
          ],
          "name": "stdout"
        }
      ]
    },
    {
      "cell_type": "code",
      "metadata": {
        "id": "QDY377EBxRvN"
      },
      "source": [
        ""
      ],
      "execution_count": 12,
      "outputs": []
    }
  ]
}