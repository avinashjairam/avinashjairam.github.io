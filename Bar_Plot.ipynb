{
  "nbformat": 4,
  "nbformat_minor": 0,
  "metadata": {
    "colab": {
      "name": "Bar Plot.ipynb",
      "provenance": [],
      "authorship_tag": "ABX9TyM8PIqAMj6tc7oHE3Yt9xyl",
      "include_colab_link": true
    },
    "kernelspec": {
      "name": "python3",
      "display_name": "Python 3"
    },
    "language_info": {
      "name": "python"
    }
  },
  "cells": [
    {
      "cell_type": "markdown",
      "metadata": {
        "id": "view-in-github",
        "colab_type": "text"
      },
      "source": [
        "<a href=\"https://colab.research.google.com/github/avinashjairam/avinashjairam.github.io/blob/master/Bar_Plot.ipynb\" target=\"_parent\"><img src=\"https://colab.research.google.com/assets/colab-badge.svg\" alt=\"Open In Colab\"/></a>"
      ]
    },
    {
      "cell_type": "code",
      "metadata": {
        "id": "XdEeudDa8Mi7"
      },
      "source": [
        "#Creating a basic bar plot or bar graph\n",
        "\n",
        "from matplotlib import pyplot as plt"
      ],
      "execution_count": 1,
      "outputs": []
    },
    {
      "cell_type": "code",
      "metadata": {
        "id": "dQjSRVaf8oeQ"
      },
      "source": [
        "#x - values\n",
        "\n",
        "x = [5, 2, 9, 4, 7]\n",
        "\n",
        "# y - values\n",
        "\n",
        "y = [10, 5, 8, 4, 2]\n",
        "\n"
      ],
      "execution_count": 2,
      "outputs": []
    },
    {
      "cell_type": "code",
      "metadata": {
        "colab": {
          "base_uri": "https://localhost:8080/",
          "height": 295
        },
        "id": "Ev4M9qjE9C1n",
        "outputId": "18f4d5e8-9943-4fd2-b566-67ad4e1ab2cf"
      },
      "source": [
        "#plotting the graph\n",
        "\n",
        "plt.bar(x, y)\n",
        "plt.title(\"Basic Bar Graph\")\n",
        "plt.xlabel(\"x- values\")\n",
        "plt.ylabel(\"y- values\")\n",
        "plt.show()"
      ],
      "execution_count": 3,
      "outputs": [
        {
          "output_type": "display_data",
          "data": {
            "image/png": "[encoded data removed]",
            "text/plain": [
              "<Figure size 432x288 with 1 Axes>"
            ]
          },
          "metadata": {
            "tags": [],
            "needs_background": "light"
          }
        }
      ]
    }
  ]
}