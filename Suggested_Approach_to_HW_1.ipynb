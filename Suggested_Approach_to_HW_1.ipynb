{
  "nbformat": 4,
  "nbformat_minor": 0,
  "metadata": {
    "colab": {
      "name": "Suggested Approach to HW 1.ipynb",
      "provenance": [],
      "authorship_tag": "ABX9TyPz9bZNyPuttpcNdpdjPYLZ",
      "include_colab_link": true
    },
    "kernelspec": {
      "name": "python3",
      "display_name": "Python 3"
    },
    "language_info": {
      "name": "python"
    }
  },
  "cells": [
    {
      "cell_type": "markdown",
      "metadata": {
        "id": "view-in-github",
        "colab_type": "text"
      },
      "source": [
        "<a href=\"https://colab.research.google.com/github/avinashjairam/avinashjairam.github.io/blob/master/Suggested_Approach_to_HW_1.ipynb\" target=\"_parent\"><img src=\"https://colab.research.google.com/assets/colab-badge.svg\" alt=\"Open In Colab\"/></a>"
      ]
    },
    {
      "cell_type": "code",
      "metadata": {
        "id": "2Qc6f4W5r0Mz"
      },
      "source": [
        "urls []"
      ],
      "execution_count": null,
      "outputs": []
    },
    {
      "cell_type": "code",
      "metadata": {
        "id": "5VvJM9HWr-Iy"
      },
      "source": [
        "def calculate_average_height():\n",
        "  #make request\n",
        "  #import html into BS\n",
        "  #scrape the heights\n",
        "  #extract the feet and inches\n",
        "  #convert the feet and inches into a single measurement (e.g. inches, cms, meters, etc.)\n",
        "  #find the average \n",
        "  #return the average"
      ],
      "execution_count": null,
      "outputs": []
    },
    {
      "cell_type": "code",
      "metadata": {
        "id": "-vJB3OS5sSdN"
      },
      "source": [
        "mens_sports = []\n",
        "womens_sports = []\n",
        "\n",
        "for url in urls:\n",
        "  height = calculate_average_height(url)\n",
        "  mens_sports.append(height)"
      ],
      "execution_count": null,
      "outputs": []
    }
  ]
}