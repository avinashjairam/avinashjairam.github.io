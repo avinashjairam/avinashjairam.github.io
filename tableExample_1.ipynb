{
  "nbformat": 4,
  "nbformat_minor": 0,
  "metadata": {
    "colab": {
      "name": "tableExample #1.ipynb",
      "provenance": []
    },
    "kernelspec": {
      "name": "python3",
      "display_name": "Python 3"
    }
  },
  "cells": [
    {
      "cell_type": "code",
      "metadata": {
        "id": "KEjEYCMlBXAP"
      },
      "source": [
        "import requests\n",
        "from bs4 import BeautifulSoup"
      ],
      "execution_count": null,
      "outputs": []
    },
    {
      "cell_type": "code",
      "metadata": {
        "id": "bNtuwIp7Bjq4"
      },
      "source": [
        "url = \"https://avinashjairam.github.io/tableExample1.html\"\n",
        "\n",
        "page = requests.get(url)\n",
        "soup = BeautifulSoup(page.content, \"html.parser\")"
      ],
      "execution_count": null,
      "outputs": []
    },
    {
      "cell_type": "code",
      "metadata": {
        "id": "3WjwNl5GB5Tc",
        "colab": {
          "base_uri": "https://localhost:8080/"
        },
        "outputId": "007a2599-bb1e-4c63-ca5a-da4c659c203f"
      },
      "source": [
        "print(soup.prettify())"
      ],
      "execution_count": null,
      "outputs": [
        {
          "output_type": "stream",
          "name": "stdout",
          "text": [
            "<html>\n",
            " <head>\n",
            "  <title>\n",
            "   Table Scraping: Ex. #1\n",
            "  </title>\n",
            "  <style>\n",
            "   table, th, td {\n",
            "  border: 1px solid black;\n",
            "  border-collapse: collapse;\n",
            "}\n",
            "th, td {\n",
            "  padding: 5px;\n",
            "  text-align: left;\n",
            "}\n",
            "  </style>\n",
            " </head>\n",
            " <body>\n",
            "  <h2>\n",
            "   Monthly Savings\n",
            "  </h2>\n",
            "  <p>\n",
            "   Let's Track Our Savings\n",
            "  </p>\n",
            "  <table>\n",
            "   <caption>\n",
            "    Monthly Savings\n",
            "   </caption>\n",
            "   <tr>\n",
            "    <th>\n",
            "     Month\n",
            "    </th>\n",
            "    <th>\n",
            "     Savings\n",
            "    </th>\n",
            "   </tr>\n",
            "   <tr>\n",
            "    <td>\n",
            "     January\n",
            "    </td>\n",
            "    <td>\n",
            "     $100\n",
            "    </td>\n",
            "   </tr>\n",
            "   <tr>\n",
            "    <td>\n",
            "     February\n",
            "    </td>\n",
            "    <td>\n",
            "     $50\n",
            "    </td>\n",
            "   </tr>\n",
            "   <tr>\n",
            "    <td>\n",
            "     March\n",
            "    </td>\n",
            "    <td>\n",
            "     $340\n",
            "    </td>\n",
            "   </tr>\n",
            "   <tr>\n",
            "    <td>\n",
            "     April\n",
            "    </td>\n",
            "    <td>\n",
            "     $50\n",
            "    </td>\n",
            "   </tr>\n",
            "   <tr>\n",
            "    <td>\n",
            "     May\n",
            "    </td>\n",
            "    <td>\n",
            "     $10\n",
            "    </td>\n",
            "   </tr>\n",
            "   <tr>\n",
            "    <td>\n",
            "     June\n",
            "    </td>\n",
            "    <td>\n",
            "     $5\n",
            "    </td>\n",
            "   </tr>\n",
            "   <tr>\n",
            "    <td>\n",
            "     July\n",
            "    </td>\n",
            "    <td>\n",
            "     $210\n",
            "    </td>\n",
            "   </tr>\n",
            "   <tr>\n",
            "    <td>\n",
            "     August\n",
            "    </td>\n",
            "    <td>\n",
            "     $54\n",
            "    </td>\n",
            "   </tr>\n",
            "   <tr>\n",
            "    <td>\n",
            "     September\n",
            "    </td>\n",
            "    <td>\n",
            "     $20\n",
            "    </td>\n",
            "   </tr>\n",
            "   <tr>\n",
            "    <td>\n",
            "     October\n",
            "    </td>\n",
            "    <td>\n",
            "     $0\n",
            "    </td>\n",
            "   </tr>\n",
            "   <tr>\n",
            "    <td>\n",
            "     November\n",
            "    </td>\n",
            "    <td>\n",
            "     $400\n",
            "    </td>\n",
            "   </tr>\n",
            "   <tr>\n",
            "    <td>\n",
            "     December\n",
            "    </td>\n",
            "    <td>\n",
            "     $2\n",
            "    </td>\n",
            "   </tr>\n",
            "  </table>\n",
            " </body>\n",
            "</html>\n"
          ]
        }
      ]
    },
    {
      "cell_type": "code",
      "metadata": {
        "id": "j7aJ31PBB6nX"
      },
      "source": [
        "table = soup.find('table')\n"
      ],
      "execution_count": null,
      "outputs": []
    },
    {
      "cell_type": "code",
      "metadata": {
        "id": "LUY2HzAVCuEh",
        "colab": {
          "base_uri": "https://localhost:8080/"
        },
        "outputId": "4a4459f5-7b24-46ff-f646-c58e75ce1f0d"
      },
      "source": [
        "print(table)"
      ],
      "execution_count": null,
      "outputs": [
        {
          "output_type": "stream",
          "name": "stdout",
          "text": [
            "<table>\n",
            "<caption>Monthly Savings</caption>\n",
            "<tr>\n",
            "<th>Month</th>\n",
            "<th>Savings</th>\n",
            "</tr>\n",
            "<tr>\n",
            "<td>January</td>\n",
            "<td>$100</td>\n",
            "</tr>\n",
            "<tr>\n",
            "<td>February</td>\n",
            "<td>$50</td>\n",
            "</tr>\n",
            "<tr>\n",
            "<td>March</td>\n",
            "<td>$340</td>\n",
            "</tr>\n",
            "<tr>\n",
            "<td>April</td>\n",
            "<td>$50</td>\n",
            "</tr>\n",
            "<tr>\n",
            "<td>May</td>\n",
            "<td>$10</td>\n",
            "</tr>\n",
            "<tr>\n",
            "<td>June</td>\n",
            "<td>$5</td>\n",
            "</tr>\n",
            "<tr>\n",
            "<td>July</td>\n",
            "<td>$210</td>\n",
            "</tr>\n",
            "<tr>\n",
            "<td>August</td>\n",
            "<td>$54</td>\n",
            "</tr>\n",
            "<tr>\n",
            "<td>September</td>\n",
            "<td>$20</td>\n",
            "</tr>\n",
            "<tr>\n",
            "<td>October</td>\n",
            "<td>$0</td>\n",
            "</tr>\n",
            "<tr>\n",
            "<td>November</td>\n",
            "<td>$400</td>\n",
            "</tr>\n",
            "<tr>\n",
            "<td>December</td>\n",
            "<td>$2</td>\n",
            "</tr>\n",
            "</table>\n"
          ]
        }
      ]
    },
    {
      "cell_type": "code",
      "metadata": {
        "id": "v8gAHgrpERhh",
        "colab": {
          "base_uri": "https://localhost:8080/"
        },
        "outputId": "d9b8752e-b601-4717-c065-01eca3e64fc1"
      },
      "source": [
        "print(table.findAll('tr'))"
      ],
      "execution_count": null,
      "outputs": [
        {
          "output_type": "stream",
          "name": "stdout",
          "text": [
            "[<tr>\n",
            "<th>Month</th>\n",
            "<th>Savings</th>\n",
            "</tr>, <tr>\n",
            "<td>January</td>\n",
            "<td>$100</td>\n",
            "</tr>, <tr>\n",
            "<td>February</td>\n",
            "<td>$50</td>\n",
            "</tr>, <tr>\n",
            "<td>March</td>\n",
            "<td>$340</td>\n",
            "</tr>, <tr>\n",
            "<td>April</td>\n",
            "<td>$50</td>\n",
            "</tr>, <tr>\n",
            "<td>May</td>\n",
            "<td>$10</td>\n",
            "</tr>, <tr>\n",
            "<td>June</td>\n",
            "<td>$5</td>\n",
            "</tr>, <tr>\n",
            "<td>July</td>\n",
            "<td>$210</td>\n",
            "</tr>, <tr>\n",
            "<td>August</td>\n",
            "<td>$54</td>\n",
            "</tr>, <tr>\n",
            "<td>September</td>\n",
            "<td>$20</td>\n",
            "</tr>, <tr>\n",
            "<td>October</td>\n",
            "<td>$0</td>\n",
            "</tr>, <tr>\n",
            "<td>November</td>\n",
            "<td>$400</td>\n",
            "</tr>, <tr>\n",
            "<td>December</td>\n",
            "<td>$2</td>\n",
            "</tr>]\n"
          ]
        }
      ]
    },
    {
      "cell_type": "code",
      "metadata": {
        "id": "yGxg21D3E1k4"
      },
      "source": [
        "month = []\n",
        "savings = []\n",
        "rows = table.findAll('tr')\n",
        "\n",
        "for row in rows:\n",
        "  cells = row.findAll('td')\n",
        "  if(len(cells) == 2):\n",
        "    month.append(cells[0].find(text=True))\n",
        "    savings.append(cells[1].find(text=True))\n",
        " \n"
      ],
      "execution_count": null,
      "outputs": []
    },
    {
      "cell_type": "code",
      "metadata": {
        "id": "Pg7BXKRcRd65",
        "colab": {
          "base_uri": "https://localhost:8080/"
        },
        "outputId": "02cc64bd-ee97-4d93-877d-ba0264c273d2"
      },
      "source": [
        "savings"
      ],
      "execution_count": null,
      "outputs": [
        {
          "output_type": "execute_result",
          "data": {
            "text/plain": [
              "['$100',\n",
              " '$50',\n",
              " '$340',\n",
              " '$50',\n",
              " '$10',\n",
              " '$5',\n",
              " '$210',\n",
              " '$54',\n",
              " '$20',\n",
              " '$0',\n",
              " '$400',\n",
              " '$2']"
            ]
          },
          "metadata": {},
          "execution_count": 8
        }
      ]
    },
    {
      "cell_type": "code",
      "metadata": {
        "id": "FXRY7CQsHuRx"
      },
      "source": [
        "import pandas as pd\n",
        "\n",
        "#creating a dataframe\n",
        "df = pd.DataFrame()\n",
        "df['month'] = month\n",
        "df['savings'] = savings\n",
        "\n",
        "df.to_csv(\"savings.csv\")"
      ],
      "execution_count": null,
      "outputs": []
    },
    {
      "cell_type": "code",
      "metadata": {
        "id": "1lxlRQYMDTUA",
        "colab": {
          "base_uri": "https://localhost:8080/",
          "height": 426
        },
        "outputId": "48f9045c-92c3-483d-ec98-01981ca022bf"
      },
      "source": [
        "df"
      ],
      "execution_count": null,
      "outputs": [
        {
          "output_type": "execute_result",
          "data": {
            "text/html": [
              "<div>\n",
              "<style scoped>\n",
              "    .dataframe tbody tr th:only-of-type {\n",
              "        vertical-align: middle;\n",
              "    }\n",
              "\n",
              "    .dataframe tbody tr th {\n",
              "        vertical-align: top;\n",
              "    }\n",
              "\n",
              "    .dataframe thead th {\n",
              "        text-align: right;\n",
              "    }\n",
              "</style>\n",
              "<table border=\"1\" class=\"dataframe\">\n",
              "  <thead>\n",
              "    <tr style=\"text-align: right;\">\n",
              "      <th></th>\n",
              "      <th>month</th>\n",
              "      <th>savings</th>\n",
              "    </tr>\n",
              "  </thead>\n",
              "  <tbody>\n",
              "    <tr>\n",
              "      <th>0</th>\n",
              "      <td>January</td>\n",
              "      <td>$100</td>\n",
              "    </tr>\n",
              "    <tr>\n",
              "      <th>1</th>\n",
              "      <td>February</td>\n",
              "      <td>$50</td>\n",
              "    </tr>\n",
              "    <tr>\n",
              "      <th>2</th>\n",
              "      <td>March</td>\n",
              "      <td>$340</td>\n",
              "    </tr>\n",
              "    <tr>\n",
              "      <th>3</th>\n",
              "      <td>April</td>\n",
              "      <td>$50</td>\n",
              "    </tr>\n",
              "    <tr>\n",
              "      <th>4</th>\n",
              "      <td>May</td>\n",
              "      <td>$10</td>\n",
              "    </tr>\n",
              "    <tr>\n",
              "      <th>5</th>\n",
              "      <td>June</td>\n",
              "      <td>$5</td>\n",
              "    </tr>\n",
              "    <tr>\n",
              "      <th>6</th>\n",
              "      <td>July</td>\n",
              "      <td>$210</td>\n",
              "    </tr>\n",
              "    <tr>\n",
              "      <th>7</th>\n",
              "      <td>August</td>\n",
              "      <td>$54</td>\n",
              "    </tr>\n",
              "    <tr>\n",
              "      <th>8</th>\n",
              "      <td>September</td>\n",
              "      <td>$20</td>\n",
              "    </tr>\n",
              "    <tr>\n",
              "      <th>9</th>\n",
              "      <td>October</td>\n",
              "      <td>$0</td>\n",
              "    </tr>\n",
              "    <tr>\n",
              "      <th>10</th>\n",
              "      <td>November</td>\n",
              "      <td>$400</td>\n",
              "    </tr>\n",
              "    <tr>\n",
              "      <th>11</th>\n",
              "      <td>December</td>\n",
              "      <td>$2</td>\n",
              "    </tr>\n",
              "  </tbody>\n",
              "</table>\n",
              "</div>"
            ],
            "text/plain": [
              "        month savings\n",
              "0     January    $100\n",
              "1    February     $50\n",
              "2       March    $340\n",
              "3       April     $50\n",
              "4         May     $10\n",
              "5        June      $5\n",
              "6        July    $210\n",
              "7      August     $54\n",
              "8   September     $20\n",
              "9     October      $0\n",
              "10   November    $400\n",
              "11   December      $2"
            ]
          },
          "metadata": {},
          "execution_count": 10
        }
      ]
    },
    {
      "cell_type": "code",
      "metadata": {
        "id": "Co_dKDTgRg7k"
      },
      "source": [
        ""
      ],
      "execution_count": null,
      "outputs": []
    }
  ]
}