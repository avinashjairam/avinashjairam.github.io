{
  "nbformat": 4,
  "nbformat_minor": 0,
  "metadata": {
    "colab": {
      "name": "Finding the weather of multiple cities.ipynb",
      "provenance": [],
      "authorship_tag": "ABX9TyPF9GZQSuz8jsnsM22iSGCm",
      "include_colab_link": true
    },
    "kernelspec": {
      "name": "python3",
      "display_name": "Python 3"
    },
    "language_info": {
      "name": "python"
    }
  },
  "cells": [
    {
      "cell_type": "markdown",
      "metadata": {
        "id": "view-in-github",
        "colab_type": "text"
      },
      "source": [
        "<a href=\"https://colab.research.google.com/github/avinashjairam/avinashjairam.github.io/blob/master/Finding_the_weather_of_multiple_cities.ipynb\" target=\"_parent\"><img src=\"https://colab.research.google.com/assets/colab-badge.svg\" alt=\"Open In Colab\"/></a>"
      ]
    },
    {
      "cell_type": "code",
      "metadata": {
        "id": "fx0aE2OTKNbQ"
      },
      "source": [
        "#Using the weather API to find the weather data for multiple cities\n",
        "#import requests and json\n",
        "import requests\n",
        "import json"
      ],
      "execution_count": 1,
      "outputs": []
    },
    {
      "cell_type": "code",
      "metadata": {
        "colab": {
          "base_uri": "https://localhost:8080/"
        },
        "id": "Dr3bMZpCKnGK",
        "outputId": "4cca92f5-609b-472c-e2dd-004cf5909ad1"
      },
      "source": [
        "#API key - Sign up here to get your OWN key - https://home.openweathermap.org/users/sign_up\n",
        "key = 'INSERT YOUR OWN KEY HERE'\n",
        "\n",
        "#list of cities \n",
        "cities = ['Seattle', 'Boston', 'Houston', 'Sydney', 'Moscow', 'Cairo', 'Lagos', 'Havana']\n",
        "\n",
        "#We will make a call to the weather api for each city the list above\n",
        "for city in cities:\n",
        "  #creating a url with different parameters for each city\n",
        "  url = f'http://api.openweathermap.org/data/2.5/weather?q={city}&APPID={key}&units=imperial'\n",
        "  #making the request\n",
        "  r = requests.get(url)\n",
        "\n",
        "  #checking if the request was successful, only then will we attempt to process the json code\n",
        "  if(r.status_code == 200):\n",
        "    #extracting the json. We are already familiar with the json format FOR THIS API\n",
        "    #from the last exercise so we will not use json dumps to see what the code looks like\n",
        "    data = r.json()\n",
        "    print(f\"{data['name']} temperature is {data['main']['temp']}\")\n",
        "    print(f\"{data['name']} humidity is {data['main']['humidity']}\")\n",
        "    print(f\"{data['name']} weather description is {data['weather'][0]['description']}\")\n",
        "    print()\n",
        "  else:\n",
        "    print(\"API request was unsuccessful.\")"
      ],
      "execution_count": 5,
      "outputs": [
        {
          "output_type": "stream",
          "name": "stdout",
          "text": [
            "Seattle temperature is 44.94\n",
            "Seattle humidity is 89\n",
            "Seattle weather description is light rain\n",
            "\n",
            "Boston temperature is 51.6\n",
            "Boston humidity is 52\n",
            "Boston weather description is broken clouds\n",
            "\n",
            "Houston temperature is 71.91\n",
            "Houston humidity is 55\n",
            "Houston weather description is clear sky\n",
            "\n",
            "Sydney temperature is 64.24\n",
            "Sydney humidity is 95\n",
            "Sydney weather description is light rain\n",
            "\n",
            "Moscow temperature is 44.47\n",
            "Moscow humidity is 87\n",
            "Moscow weather description is light rain\n",
            "\n",
            "Cairo temperature is 72.36\n",
            "Cairo humidity is 94\n",
            "Cairo weather description is clear sky\n",
            "\n",
            "Lagos temperature is 75.52\n",
            "Lagos humidity is 89\n",
            "Lagos weather description is light rain\n",
            "\n",
            "Havana temperature is 77.43\n",
            "Havana humidity is 57\n",
            "Havana weather description is broken clouds\n",
            "\n"
          ]
        }
      ]
    }
  ]
}